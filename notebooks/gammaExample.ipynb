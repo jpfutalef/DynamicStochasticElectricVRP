{
 "cells": [
  {
   "cell_type": "markdown",
   "source": [
    "# Gamma usage example\n",
    "\n",
    "Counting vector (theta) dynamics makes use of the gamma vector. This example shows how the\n",
    "function is used.\n",
    "\n",
    "First, import functions from EV utilities library\n"
   ],
   "metadata": {
    "collapsed": false,
    "pycharm": {
     "name": "#%% md\n"
    }
   }
  },
  {
   "cell_type": "code",
   "execution_count": 17,
   "metadata": {
    "pycharm": {
     "is_executing": false,
     "name": "#%%\n"
    }
   },
   "outputs": [],
   "source": [
    "from res.EV_utilities import *\n"
   ]
  },
  {
   "cell_type": "markdown",
   "source": [
    "Now, define the nodes sequence to be followed"
   ],
   "metadata": {
    "collapsed": false,
    "pycharm": {
     "name": "#%% md\n"
    }
   }
  },
  {
   "cell_type": "code",
   "execution_count": null,
   "outputs": [],
   "source": [
    "% nodes sequence\n",
    "S1 = [0,4,2,5,6,0]\n",
    "S2 = [0,1,3,5,0]\n",
    "\n",
    "# append in one big list\n",
    "S = [S1,S2]"
   ],
   "metadata": {
    "collapsed": false,
    "pycharm": {
     "name": "#%% \n"
    }
   }
  },
  {
   "cell_type": "markdown",
   "source": [
    "It is necessary to count on with service and charging times to create the X1 state vector\n",
    "for each vehicle"
   ],
   "metadata": {
    "collapsed": false,
    "pycharm": {
     "name": "#%% md\n"
    }
   }
  },
  {
   "cell_type": "code",
   "execution_count": null,
   "outputs": [],
   "source": [
    "# Charging/service times for each node\n",
    "times = [0.0, 1.1, 0.8, 1.4, 0.4, 1.2, 0.9]\n",
    "\n",
    "# X1 state\n",
    "X1 = [[0.0,1.0,2.0,3.0,4.5],\n",
    "      [0.0,1.1,2.2,3.8,4.5]]"
   ],
   "metadata": {
    "collapsed": false,
    "pycharm": {
     "name": "#%%\n"
    }
   }
  },
  {
   "cell_type": "markdown",
   "source": [
    "Now, create the counter"
   ],
   "metadata": {
    "collapsed": false,
    "pycharm": {
     "name": "#%% md\n"
    }
   }
  },
  {
   "cell_type": "code",
   "execution_count": null,
   "outputs": [],
   "source": [
    "\n",
    "\n",
    "# Tiempo global\n",
    "k0 = list(range(0,2*(len(X1[0])+len(X2[0]))))\n",
    "print(k0)"
   ],
   "metadata": {
    "collapsed": false,
    "pycharm": {
     "name": "#%%\n"
    }
   }
  },
  {
   "cell_type": "code",
   "execution_count": 19,
   "metadata": {
    "pycharm": {
     "is_executing": false
    }
   },
   "outputs": [
    {
     "name": "stdout",
     "text": [
      "[[[0.0, 0, 1, 0], [0.0, 0, -1, 0], [1.0, 4, 1, 0], [1.1, 4, -1, 0], [2.0, 2, 1, 0], [2.2, 2, -1, 0], [3.0, 5, 1, 0], [3.8, 5, -1, 0], [4.5, 0, 1, 0], [4.5, 0, -1, 0]], [[1.0, 0, 1, 1], [1.0, 0, -1, 1], [2.0, 1, 1, 1], [2.1, 1, -1, 1], [2.5, 3, 1, 1], [3.0, 3, -1, 1], [3.2, 5, 1, 1], [3.9, 5, -1, 1], [4.2, 0, 1, 1], [4.2, 0, -1, 1]]]\n"
     ],
     "output_type": "stream"
    }
   ],
   "source": [
    "# Matriz con eventos en cada nodo para cada vehículo\n",
    "aX = []\n",
    "for i in range(0,nVehicles):\n",
    "    x = []\n",
    "    for j in range(0,len(S[i])):\n",
    "        # agregar ts, nodo, tipo, vehiculo\n",
    "        x.append([X[i][0][j], S[i][j], 1, i])\n",
    "        x.append([X[i][1][j], S[i][j], -1, i])\n",
    "    aX.append(x)\n",
    "    \n",
    "print(aX)"
   ]
  },
  {
   "cell_type": "code",
   "execution_count": 20,
   "metadata": {
    "pycharm": {
     "is_executing": false
    }
   },
   "outputs": [
    {
     "name": "stdout",
     "text": [
      "[[0.0, 0, 1, 0], [0.0, 0, -1, 0], [1.0, 4, 1, 0], [1.0, 0, 1, 1], [1.0, 0, -1, 1], [1.1, 4, -1, 0], [2.0, 2, 1, 0], [2.0, 1, 1, 1], [2.1, 1, -1, 1], [2.2, 2, -1, 0], [2.5, 3, 1, 1], [3.0, 5, 1, 0], [3.0, 3, -1, 1], [3.2, 5, 1, 1], [3.8, 5, -1, 0], [3.9, 5, -1, 1], [4.2, 0, 1, 1], [4.2, 0, -1, 1], [4.5, 0, 1, 0], [4.5, 0, -1, 0]]\n"
     ],
     "output_type": "stream"
    }
   ],
   "source": [
    "# Ordenar\n",
    "oX = []\n",
    "for i in k0:\n",
    "    c = float(\"inf\")\n",
    "    v = 0\n",
    "    for j in range(0,nVehicles):\n",
    "        if not aX[j]:\n",
    "            pass\n",
    "        elif aX[j][0][0] < c:\n",
    "            c = aX[j][0][0]\n",
    "            v = j\n",
    "    popEvent = aX[v].pop(0) # notice that aX will be empty after this. rerun to obtain new results\n",
    "    oX.append(popEvent)\n",
    "\n",
    "print(oX)"
   ]
  },
  {
   "cell_type": "code",
   "execution_count": 21,
   "metadata": {
    "pycharm": {
     "is_executing": false
    }
   },
   "outputs": [
    {
     "name": "stdout",
     "text": [
      "[[-1.]\n [ 0.]\n [ 0.]\n [ 0.]\n [ 0.]\n [ 0.]]\n"
     ],
     "output_type": "stream"
    }
   ],
   "source": [
    "# Prueba de gamma\n",
    "g, typ = gamma(oX, 1, nNodes)\n",
    "print(g)"
   ]
  },
  {
   "cell_type": "code",
   "execution_count": 22,
   "metadata": {
    "pycharm": {
     "is_executing": false
    }
   },
   "outputs": [
    {
     "name": "stdout",
     "text": [
      "theta( 0 )= \n [[1.]\n [0.]\n [0.]\n [0.]\n [0.]\n [0.]] \n\ntheta( 1 )= \n [[0.]\n [0.]\n [0.]\n [0.]\n [0.]\n [0.]] \n\ntheta( 2 )= \n [[0.]\n [0.]\n [0.]\n [0.]\n [1.]\n [0.]] \n\ntheta( 3 )= \n [[1.]\n [0.]\n [0.]\n [0.]\n [1.]\n [0.]] \n\ntheta( 4 )= \n [[0.]\n [0.]\n [0.]\n [0.]\n [1.]\n [0.]] \n\ntheta( 5 )= \n [[0.]\n [0.]\n [0.]\n [0.]\n [0.]\n [0.]] \n\ntheta( 6 )= \n [[0.]\n [0.]\n [1.]\n [0.]\n [0.]\n [0.]] \n\ntheta( 7 )= \n [[0.]\n [1.]\n [1.]\n [0.]\n [0.]\n [0.]] \n\ntheta( 8 )= \n [[0.]\n [0.]\n [1.]\n [0.]\n [0.]\n [0.]] \n\ntheta( 9 )= \n [[0.]\n [0.]\n [0.]\n [0.]\n [0.]\n [0.]] \n\ntheta( 10 )= \n [[0.]\n [0.]\n [0.]\n [1.]\n [0.]\n [0.]] \n\ntheta( 11 )= \n [[0.]\n [0.]\n [0.]\n [1.]\n [0.]\n [1.]] \n\ntheta( 12 )= \n [[0.]\n [0.]\n [0.]\n [0.]\n [0.]\n [1.]] \n\ntheta( 13 )= \n [[0.]\n [0.]\n [0.]\n [0.]\n [0.]\n [2.]] \n\ntheta( 14 )= \n [[0.]\n [0.]\n [0.]\n [0.]\n [0.]\n [1.]] \n\ntheta( 15 )= \n [[0.]\n [0.]\n [0.]\n [0.]\n [0.]\n [0.]] \n\ntheta( 16 )= \n [[1.]\n [0.]\n [0.]\n [0.]\n [0.]\n [0.]] \n\ntheta( 17 )= \n [[0.]\n [0.]\n [0.]\n [0.]\n [0.]\n [0.]] \n\ntheta( 18 )= \n [[1.]\n [0.]\n [0.]\n [0.]\n [0.]\n [0.]] \n\ntheta( 19 )= \n [[0.]\n [0.]\n [0.]\n [0.]\n [0.]\n [0.]] \n\n"
     ],
     "output_type": "stream"
    }
   ],
   "source": [
    "# Vehiculos en cada nodo\n",
    "theta = np.zeros((nNodes,1))\n",
    "#theta[0] = nVehicles\n",
    "for k in k0:\n",
    "    g, typ = gamma(oX, k, nNodes)\n",
    "    theta = theta + g\n",
    "    print(\"theta(\",k,\")= \\n\",theta,\"\\n\")\n",
    "    #time.sleep(1)"
   ]
  },
  {
   "cell_type": "code",
   "execution_count": null,
   "outputs": [],
   "source": [
    "\n"
   ],
   "metadata": {
    "collapsed": false,
    "pycharm": {
     "name": "#%%\n"
    }
   }
  }
 ],
 "metadata": {
  "kernelspec": {
   "display_name": "Python 3",
   "language": "python",
   "name": "python3"
  },
  "language_info": {
   "codemirror_mode": {
    "name": "ipython",
    "version": 3
   },
   "file_extension": ".py",
   "mimetype": "text/x-python",
   "name": "python",
   "nbconvert_exporter": "python",
   "pygments_lexer": "ipython3",
   "version": "3.7.3"
  },
  "stem_cell": {
   "cell_type": "raw",
   "source": "",
   "metadata": {
    "pycharm": {
     "metadata": false
    }
   }
  },
  "pycharm": {
   "stem_cell": {
    "cell_type": "raw",
    "source": [],
    "metadata": {
     "collapsed": false
    }
   }
  }
 },
 "nbformat": 4,
 "nbformat_minor": 2
}