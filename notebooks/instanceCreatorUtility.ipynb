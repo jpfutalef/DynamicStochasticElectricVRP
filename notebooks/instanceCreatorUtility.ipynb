{
 "cells": [
  {
   "cell_type": "markdown",
   "metadata": {},
   "source": [
    "# Instance creator utility\n",
    "\n",
    "data  \n",
    "|-->info  \n",
    "&nbsp;&nbsp;&nbsp;&nbsp;&nbsp;&nbsp;    |-->name  \n",
    "&nbsp;&nbsp;&nbsp;&nbsp;&nbsp;&nbsp;    |-->description  \n",
    "|-->network  \n",
    "&nbsp;&nbsp;&nbsp;&nbsp;&nbsp;&nbsp;    |-->nodes  \n",
    "&nbsp;&nbsp;&nbsp;&nbsp;&nbsp;&nbsp;&nbsp;&nbsp;&nbsp;&nbsp;&nbsp;&nbsp;        |-->node 0  \n",
    "&nbsp;&nbsp;&nbsp;&nbsp;&nbsp;&nbsp;&nbsp;&nbsp;&nbsp;&nbsp;&nbsp;&nbsp;        .  \n",
    "&nbsp;&nbsp;&nbsp;&nbsp;&nbsp;&nbsp;&nbsp;&nbsp;&nbsp;&nbsp;&nbsp;&nbsp;        .  \n",
    "&nbsp;&nbsp;&nbsp;&nbsp;&nbsp;&nbsp;    |-->info  \n",
    "|-->requests  \n",
    "|-->fleet  "
   ]
  },
  {
   "cell_type": "code",
   "execution_count": 1,
   "metadata": {
    "pycharm": {
     "is_executing": false
    }
   },
   "outputs": [],
   "source": [
    "import xml.etree.ElementTree as ET\n",
    "import numpy as np\n",
    "import matplotlib.pyplot as plt\n",
    "import networkx as nx\n",
    "import os"
   ]
  },
  {
   "cell_type": "code",
   "execution_count": 2,
   "metadata": {
    "pycharm": {
     "is_executing": false
    }
   },
   "outputs": [],
   "source": [
    "def TSubElement(parent, tag, attrib={}, text=None, **extra):\n",
    "    element = ET.SubElement(parent, tag, attrib, **extra)\n",
    "    if text:\n",
    "        element.text = text\n",
    "    return element"
   ]
  },
  {
   "cell_type": "markdown",
   "metadata": {},
   "source": [
    "### XML tree related functions"
   ]
  },
  {
   "cell_type": "code",
   "execution_count": 3,
   "metadata": {
    "pycharm": {
     "is_executing": false
    }
   },
   "outputs": [],
   "source": [
    "def createInfo(root, name='', description=''):\n",
    "    info = TSubElement(root, 'info')\n",
    "    _name = TSubElement(info, 'name', text=name)\n",
    "    _description = TSubElement(info, 'description', text=description)\n",
    "    return\n",
    "\n",
    "def createNetwork(root, numDepots, numCustomers, numChargeStations, \n",
    "                  cx_low=-1.0, cx_high=1.0, cy_low=-1.0, cy_high=1.0, \n",
    "                  request_min=0.01, request_max=0.8,\n",
    "                  spent_time_min=2.0, spent_time_max=15.0,\n",
    "                  tw_low_low=600.0, tw_low_high=960.0, tw_min_width= 20.0, tw_max_width=120.0, \n",
    "                  travel_time_min=3., travel_time_max=35., \n",
    "                  energy_consumption_min=2.0, energy_consumption_max=10.0,\n",
    "                  max_capacity_charge_stations=4):\n",
    "    \n",
    "    network = TSubElement(root, 'network')\n",
    "    nodes = TSubElement(network, 'nodes') # stores the nodes\n",
    "    edges = TSubElement(network, 'edges') # stores edges\n",
    "    info = TSubElement(network, 'info') # stores info about the network\n",
    "    technologies = TSubElement(network, 'technologies') # stores info about CS techonologies\n",
    "    \n",
    "    # depot nodes\n",
    "    for i in range(numDepots):\n",
    "        attr = {'id': str(i), 'type': str(0)}\n",
    "        node = TSubElement(nodes, 'node', attrib=attr)\n",
    "\n",
    "    # customer nodes\n",
    "    for i in range(i+1, i+numCustomers+1):\n",
    "        attr = {'id': str(i), 'type': str(1)}\n",
    "        node = TSubElement(nodes, 'node', attrib=attr)\n",
    "        \n",
    "        request = np.random.uniform(request_min, request_max)\n",
    "        node.set('request', '{:.2f}'.format(request))\n",
    "        \n",
    "        spent_time = np.random.uniform(spent_time_min, spent_time_max)\n",
    "        node.set('spent_time', '{:.2f}'.format(spent_time))\n",
    "        \n",
    "        tw_low = np.random.uniform(tw_low_low, tw_low_high)\n",
    "        tw_upp = tw_low + np.random.uniform(tw_min_width, tw_max_width)\n",
    "        node.set('tw_low', '{:.2f}'.format(tw_low))\n",
    "        node.set('tw_upp', '{:.2f}'.format(tw_upp))\n",
    "\n",
    "    # CS nodes\n",
    "    for i in range(i+1, i+numChargeStations+1):\n",
    "        attr = {'id': str(i), 'type': str(2)}\n",
    "        node = TSubElement(nodes, 'node', attrib=attr)\n",
    "        \n",
    "        technology = np.random.randint(1, 4) # choose among 1, 2 and 3\n",
    "        node.set('technology', str(technology))\n",
    "        \n",
    "        capacity = np.random.randint(1, max_capacity_charge_stations+1)\n",
    "        node.set('capacity', str(capacity))\n",
    "    \n",
    "    # add coordinates (random)\n",
    "    for node in nodes:\n",
    "        cx = np.random.uniform(cx_low, cx_high)\n",
    "        cy = np.random.uniform(cy_low, cy_high)\n",
    "        node.set('cx', '{:.2f}'.format(cx))\n",
    "        node.set('cy', '{:.2f}'.format(cy))\n",
    "        \n",
    "    # edges\n",
    "    for i in nodes:\n",
    "        nodeFrom = TSubElement(edges, 'node_from', attrib={'id': i.get('id')})\n",
    "        for j in nodes:\n",
    "            nodeTo = TSubElement(nodeFrom, 'node_to', attrib={'id': j.get('id')})\n",
    "            \n",
    "            if i == j:\n",
    "                travelTime = 0.\n",
    "                energyConsumption = 0.\n",
    "            else:\n",
    "                travelTime = np.random.uniform(travel_time_min, travel_time_max)\n",
    "                energyConsumption = np.random.uniform(energy_consumption_min, energy_consumption_max)\n",
    "                \n",
    "            nodeTo.set('travel_time', '{:.2f}'.format(travelTime))\n",
    "            nodeTo.set('energy_consumption', '{:.2f}'.format(energyConsumption))\n",
    "            \n",
    "    # technologies\n",
    "    _tech1 = TSubElement(technologies, 'technology', attrib={'type': str(1)})\n",
    "    _tech2 = TSubElement(technologies, 'technology', attrib={'type': str(2)})\n",
    "    _tech3 = TSubElement(technologies, 'technology', attrib={'type': str(3)})\n",
    "    \n",
    "    tech1 = {'0.0': '0.0', '20.0': '75.0', '50.0': '80.0', '120.0': '100.0'}\n",
    "    tech2 = {'0.0': '0.0', '15.0': '75.0', '40.0': '80.0', '80.0': '100.0'}\n",
    "    tech3 = {'0.0': '0.0', '10.0': '75.0', '25.0': '80.0', '40.0': '100.0'}\n",
    "    \n",
    "    _tech_list = [_tech1, _tech2, _tech3]\n",
    "    tech_list = [tech1, tech2, tech3]\n",
    "    \n",
    "    for _tech, tech in zip(_tech_list, tech_list):\n",
    "        for chargingTime, battLevel in tech.items():\n",
    "            breakPoint = TSubElement(_tech, 'breakpoint')\n",
    "            breakPoint.set('charging_time', chargingTime)\n",
    "            breakPoint.set('battery_level', battLevel)\n",
    "        \n",
    "def createRequests(root):\n",
    "    nodes = root.find('network').find('nodes')\n",
    "    for node in nodes:\n",
    "        if node.get('type') == '1':\n",
    "            pass\n",
    "    return\n",
    "\n",
    "def createFleet(root, numEV, attrib):\n",
    "    _fleet = TSubElement(root, 'fleet')\n",
    "    _numEV = TSubElement(_fleet, 'fleet_size', text=str(numEV))\n",
    "    _attributes = TSubElement(_fleet, 'vehicle_attributes')\n",
    "    for attr, val in attrib.items():\n",
    "        _attr = TSubElement(_attributes, str(attr), text=str(val))\n",
    "    return\n",
    "\n",
    "def createTree(numDepots, numCustomers, numChargeStations, numEV, attribsEV):\n",
    "    dataElement = ET.Element('instance')\n",
    "    \n",
    "    infoElement = createInfo(dataElement)\n",
    "    networkElement = createNetwork(dataElement, numDepots, numCustomers, numChargeStations)\n",
    "    requestsElement = createRequests(dataElement)\n",
    "    \n",
    "    fleetElement = createFleet(dataElement, numEV, attribsEV)\n",
    "    \n",
    "    return ET.ElementTree(dataElement)"
   ]
  },
  {
   "cell_type": "code",
   "execution_count": 4,
   "metadata": {
    "pycharm": {
     "is_executing": false
    }
   },
   "outputs": [],
   "source": [
    "numDepot = 1\n",
    "numCustomer = 7\n",
    "numCS = 2\n",
    "\n",
    "numEV = 2\n",
    "attrib = {'max_payload': 2.5, 'max_tour_duration': 250.0, 'battery_capacity':220.0, \n",
    "          'alpha_down': 35.0, 'alpha_up':85.}\n",
    "\n",
    "dataTree = createTree(numDepot, numCustomer, numCS, numEV, attrib)"
   ]
  },
  {
   "cell_type": "code",
   "execution_count": 5,
   "metadata": {
    "pycharm": {
     "is_executing": false
    }
   },
   "outputs": [
    {
     "name": "stdout",
     "text": [
      "Saving to: ../data/GA_implementation_xml/d1c7cs2_ev2/d1c7cs2_ev2.xml\n"
     ],
     "output_type": "stream"
    }
   ],
   "source": [
    "instanceName = 'd'+str(numDepot)+'c'+str(numCustomer)+'cs'+str(numCS)+'_ev'+str(numEV)\n",
    "folderPath = '../data/GA_implementation_xml/'+instanceName\n",
    "filePath = folderPath+'/'+instanceName+'.xml'\n",
    "\n",
    "try:\n",
    "    os.mkdir(folderPath)\n",
    "except FileExistsError:\n",
    "    pass\n",
    "print('Saving to:', filePath)\n",
    "\n",
    "dataTree.write(filePath)"
   ]
  },
  {
   "cell_type": "code",
   "execution_count": 6,
   "metadata": {
    "pycharm": {
     "is_executing": false
    }
   },
   "outputs": [
    {
     "name": "stdout",
     "text": [
      "travel time from 0 to 7 : 11.76\n",
      "energy consumption from 0 to 7 : 9.96\n"
     ],
     "output_type": "stream"
    }
   ],
   "source": [
    "# usage example\n",
    "nodes = dataTree.find('network').find('nodes')\n",
    "edges = dataTree.find('network').find('edges')\n",
    "\n",
    "f = 0\n",
    "t = 7\n",
    "\n",
    "print('travel time from', f, 'to', t, ':', float(edges[f][t].get('travel_time'))) # travel time [f] to [t]\n",
    "print('energy consumption from', f, 'to', t, ':', float(edges[f][t].get('energy_consumption'))) # energy consumption [f] to [t]"
   ]
  },
  {
   "cell_type": "code",
   "execution_count": 7,
   "metadata": {
    "pycharm": {
     "is_executing": false
    }
   },
   "outputs": [
    {
     "name": "stdout",
     "text": [
      "NODES IDSs:\n",
      " [0, 1, 2, 3, 4, 5, 6, 7, 8, 9]\n",
      "RESULTING TIME MATRIX:\n",
      " [[ 0.   33.55 13.51 10.43 28.9  13.89 11.45 11.76  4.4  30.98]\n",
      " [21.88  0.   28.28 11.75 13.27 23.03 33.01 25.77  6.27 21.48]\n",
      " [12.96 24.94  0.   24.8  29.86  5.03  3.39  9.72 34.31 16.99]\n",
      " [31.25 29.16  8.42  0.   15.26  6.05  9.52  3.34  7.11 26.19]\n",
      " [ 3.79 30.98 30.15 14.4   0.   25.73 18.33 22.72 28.86 11.82]\n",
      " [12.98 15.85 13.93 29.79 14.79  0.   16.36  9.36 32.99 15.85]\n",
      " [16.11 18.6  21.52 23.9  18.8  29.28  0.    8.03 31.2  10.66]\n",
      " [24.07 19.13 28.19  5.36  4.14 20.56 25.61  0.   20.99 33.17]\n",
      " [12.92  7.1  27.26 28.64 27.28 11.78 24.57 12.26  0.   22.48]\n",
      " [27.82 33.4   9.95 33.73 11.24 21.46 16.84 15.53 20.42  0.  ]]\n",
      "RESULTING ENERGY CONSUMPTION MATRIX:\n",
      " [[0.   9.25 5.04 5.77 3.62 5.67 6.16 9.96 6.12 6.47]\n",
      " [4.35 0.   3.67 2.39 3.21 8.24 5.72 5.83 7.8  7.22]\n",
      " [4.86 7.96 0.   4.3  7.93 5.   9.19 6.08 6.93 6.52]\n",
      " [8.52 7.9  8.19 0.   3.27 8.8  7.28 9.45 6.26 4.74]\n",
      " [8.37 4.55 5.34 6.1  0.   2.6  4.93 8.48 6.82 4.96]\n",
      " [8.61 7.49 2.07 6.56 4.58 0.   7.2  8.44 6.87 7.57]\n",
      " [7.12 3.79 4.55 6.31 9.69 2.   0.   9.91 2.58 6.96]\n",
      " [7.57 7.48 5.76 6.76 9.38 8.51 9.48 0.   7.49 3.19]\n",
      " [2.52 7.59 6.43 7.99 2.35 6.3  2.64 7.01 0.   3.44]\n",
      " [8.47 7.85 8.99 8.9  8.17 3.57 3.94 2.96 8.75 0.  ]]\n",
      "RESULTING NODES COORDINATES:\n",
      " {0: (0.06, -0.1), 1: (0.81, 0.56), 2: (-0.62, -0.43), 3: (-0.4, -0.72), 4: (-0.26, 0.43), 5: (0.51, -0.24), 6: (-0.29, -0.36), 7: (-0.51, 0.74), 8: (-0.18, 0.15), 9: (-1.0, -0.71)}\n"
     ],
     "output_type": "stream"
    }
   ],
   "source": [
    "# example of matrices construction\n",
    "networkSize = len(nodes)\n",
    "\n",
    "nodes_id = [int(x.get('id')) for x in nodes]\n",
    "timeMatrix = np.zeros((networkSize, networkSize))\n",
    "energyMatrix = np.zeros((networkSize, networkSize))\n",
    "coordinates = {}\n",
    "\n",
    "for i, nodeFrom in enumerate(edges):\n",
    "    for j, nodeTo in enumerate(nodeFrom):\n",
    "        timeMatrix[i][j] = float(nodeTo.get('travel_time'))\n",
    "        energyMatrix[i][j] = float(nodeTo.get('energy_consumption'))\n",
    "    coordinates[i] = (float(nodes[i].get('cx')), float(nodes[i].get('cy')))\n",
    "\n",
    "print('NODES IDSs:\\n', nodes_id)\n",
    "print('RESULTING TIME MATRIX:\\n', timeMatrix)\n",
    "print('RESULTING ENERGY CONSUMPTION MATRIX:\\n', energyMatrix)\n",
    "print('RESULTING NODES COORDINATES:\\n',coordinates)"
   ]
  },
  {
   "cell_type": "code",
   "execution_count": 8,
   "metadata": {
    "pycharm": {
     "is_executing": false
    }
   },
   "outputs": [
    {
     "name": "stderr",
     "text": [
      "C:\\Users\\jpfut\\Anaconda3\\lib\\site-packages\\networkx\\drawing\\nx_pylab.py:579: MatplotlibDeprecationWarning: \n",
      "The iterable function was deprecated in Matplotlib 3.1 and will be removed in 3.3. Use np.iterable instead.\n",
      "  if not cb.iterable(width):\n",
      "C:\\Users\\jpfut\\Anaconda3\\lib\\site-packages\\networkx\\drawing\\nx_pylab.py:676: MatplotlibDeprecationWarning: \n",
      "The iterable function was deprecated in Matplotlib 3.1 and will be removed in 3.3. Use np.iterable instead.\n",
      "  if cb.iterable(node_size):  # many node sizes\n"
     ],
     "output_type": "stream"
    },
    {
     "data": {
      "text/plain": "<Figure size 432x288 with 1 Axes>",
      "image/png": "[encoded data removed]"
     },
     "metadata": {},
     "output_type": "display_data"
    }
   ],
   "source": [
    "# show a graph of resulting network\n",
    "G = nx.MultiDiGraph()\n",
    "\n",
    "G.add_nodes_from(nodes_id)\n",
    "for i, nodeFrom in enumerate(edges):\n",
    "    for j, nodeTo in enumerate(nodeFrom):\n",
    "        G.add_edge(i, j, travel_time=timeMatrix[i][j], energy_consumption=energyMatrix[i][j])\n",
    "\n",
    "nx.draw_networkx(G, with_labels=True, pos=coordinates, node_color='orange')\n",
    "plt.show()"
   ]
  },
  {
   "cell_type": "code",
   "execution_count": 9,
   "metadata": {
    "pycharm": {
     "is_executing": false
    }
   },
   "outputs": [
    {
     "data": {
      "text/plain": "OutMultiEdgeDataView([(0, 0), (0, 1), (0, 2), (0, 3), (0, 4), (0, 5), (0, 6), (0, 7), (0, 8), (0, 9), (1, 0), (1, 1), (1, 2), (1, 3), (1, 4), (1, 5), (1, 6), (1, 7), (1, 8), (1, 9), (2, 0), (2, 1), (2, 2), (2, 3), (2, 4), (2, 5), (2, 6), (2, 7), (2, 8), (2, 9), (3, 0), (3, 1), (3, 2), (3, 3), (3, 4), (3, 5), (3, 6), (3, 7), (3, 8), (3, 9), (4, 0), (4, 1), (4, 2), (4, 3), (4, 4), (4, 5), (4, 6), (4, 7), (4, 8), (4, 9), (5, 0), (5, 1), (5, 2), (5, 3), (5, 4), (5, 5), (5, 6), (5, 7), (5, 8), (5, 9), (6, 0), (6, 1), (6, 2), (6, 3), (6, 4), (6, 5), (6, 6), (6, 7), (6, 8), (6, 9), (7, 0), (7, 1), (7, 2), (7, 3), (7, 4), (7, 5), (7, 6), (7, 7), (7, 8), (7, 9), (8, 0), (8, 1), (8, 2), (8, 3), (8, 4), (8, 5), (8, 6), (8, 7), (8, 8), (8, 9), (9, 0), (9, 1), (9, 2), (9, 3), (9, 4), (9, 5), (9, 6), (9, 7), (9, 8), (9, 9)])"
     },
     "metadata": {},
     "output_type": "execute_result",
     "execution_count": 9
    }
   ],
   "source": [
    "G.edges()"
   ]
  },
  {
   "cell_type": "code",
   "execution_count": 9,
   "metadata": {
    "pycharm": {
     "is_executing": false
    }
   },
   "outputs": [],
   "source": []
  }
 ],
 "metadata": {
  "kernelspec": {
   "display_name": "Python 3",
   "language": "python",
   "name": "python3"
  },
  "language_info": {
   "codemirror_mode": {
    "name": "ipython",
    "version": 3
   },
   "file_extension": ".py",
   "mimetype": "text/x-python",
   "name": "python",
   "nbconvert_exporter": "python",
   "pygments_lexer": "ipython3",
   "version": "3.7.4"
  },
  "pycharm": {
   "stem_cell": {
    "cell_type": "raw",
    "source": [],
    "metadata": {
     "collapsed": false
    }
   }
  }
 },
 "nbformat": 4,
 "nbformat_minor": 4
}