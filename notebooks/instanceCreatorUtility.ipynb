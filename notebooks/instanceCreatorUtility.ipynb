{
 "cells": [
  {
   "cell_type": "markdown",
   "metadata": {},
   "source": [
    "# Instance creator utility\n",
    "\n",
    "data  \n",
    "|-->info  \n",
    "&nbsp;&nbsp;&nbsp;&nbsp;&nbsp;&nbsp;    |-->name  \n",
    "&nbsp;&nbsp;&nbsp;&nbsp;&nbsp;&nbsp;    |-->description  \n",
    "|-->network  \n",
    "&nbsp;&nbsp;&nbsp;&nbsp;&nbsp;&nbsp;    |-->nodes  \n",
    "&nbsp;&nbsp;&nbsp;&nbsp;&nbsp;&nbsp;&nbsp;&nbsp;&nbsp;&nbsp;&nbsp;&nbsp;        |-->node 0  \n",
    "&nbsp;&nbsp;&nbsp;&nbsp;&nbsp;&nbsp;&nbsp;&nbsp;&nbsp;&nbsp;&nbsp;&nbsp;        .  \n",
    "&nbsp;&nbsp;&nbsp;&nbsp;&nbsp;&nbsp;&nbsp;&nbsp;&nbsp;&nbsp;&nbsp;&nbsp;        .  \n",
    "&nbsp;&nbsp;&nbsp;&nbsp;&nbsp;&nbsp;    |-->info  \n",
    "|-->requests  \n",
    "|-->fleet  "
   ]
  },
  {
   "cell_type": "code",
   "execution_count": 1,
   "metadata": {
    "pycharm": {
     "is_executing": false
    }
   },
   "outputs": [],
   "source": [
    "import xml.etree.ElementTree as ET\n",
    "import numpy as np\n",
    "import matplotlib.pyplot as plt\n",
    "import networkx as nx\n",
    "import os"
   ]
  },
  {
   "cell_type": "code",
   "execution_count": 2,
   "metadata": {
    "pycharm": {
     "is_executing": false
    }
   },
   "outputs": [],
   "source": [
    "def TSubElement(parent, tag, attrib={}, text=None, **extra):\n",
    "    element = ET.SubElement(parent, tag, attrib, **extra)\n",
    "    if text:\n",
    "        element.text = text\n",
    "    return element"
   ]
  },
  {
   "cell_type": "markdown",
   "metadata": {},
   "source": [
    "### Network"
   ]
  },
  {
   "cell_type": "code",
   "execution_count": 3,
   "metadata": {
    "pycharm": {
     "is_executing": false
    }
   },
   "outputs": [],
   "source": [
    "def createInfo(root, name='', description=''):\n",
    "    info = TSubElement(root, 'info')\n",
    "    _name = TSubElement(info, 'name', text=name)\n",
    "    _description = TSubElement(info, 'description', text=description)\n",
    "    return\n",
    "\n",
    "def createNetwork(root, numDepots, numCustomers, numChargeStations, \n",
    "                  cx_low=-1.0, cx_high=1.0, cy_low=-1.0, cy_high=1.0, \n",
    "                  request_min=0.01, request_max=0.8,\n",
    "                  spent_time_min=2.0, spent_time_max=15.0,\n",
    "                  tw_low_low=600.0, tw_low_high=960.0, tw_min_width= 20.0, tw_max_width=120.0, \n",
    "                  travel_time_min=3., travel_time_max=35., \n",
    "                  energy_consumption_min=2.0, energy_consumption_max=10.0,\n",
    "                  max_capacity_charge_stations=4):\n",
    "    \n",
    "    network = TSubElement(root, 'network')\n",
    "    nodes = TSubElement(network, 'nodes') # stores the nodes\n",
    "    edges = TSubElement(network, 'edges') # stores edges\n",
    "    info = TSubElement(network, 'info') # stores info about the network\n",
    "    technologies = TSubElement(network, 'technologies') # stores info about CS techonologies\n",
    "    \n",
    "    # depot nodes\n",
    "    for i in range(numDepots):\n",
    "        attr = {'id': str(i), 'type': str(0)}\n",
    "        node = TSubElement(nodes, 'node', attrib=attr)\n",
    "\n",
    "    # customer nodes\n",
    "    for i in range(i+1, i+numCustomers+1):\n",
    "        attr = {'id': str(i), 'type': str(1)}\n",
    "        node = TSubElement(nodes, 'node', attrib=attr)\n",
    "        \n",
    "        request = np.random.uniform(request_min, request_max)\n",
    "        node.set('request', '{:.2f}'.format(request))\n",
    "        \n",
    "        spent_time = np.random.uniform(spent_time_min, spent_time_max)\n",
    "        node.set('spent_time', '{:.2f}'.format(spent_time))\n",
    "        \n",
    "        tw_low = np.random.uniform(tw_low_low, tw_low_high)\n",
    "        tw_upp = tw_low + np.random.uniform(tw_min_width, tw_max_width)\n",
    "        node.set('tw_low', '{:.2f}'.format(tw_low))\n",
    "        node.set('tw_upp', '{:.2f}'.format(tw_upp))\n",
    "\n",
    "    # CS nodes\n",
    "    for i in range(i+1, i+numChargeStations+1):\n",
    "        attr = {'id': str(i), 'type': str(2)}\n",
    "        node = TSubElement(nodes, 'node', attrib=attr)\n",
    "        \n",
    "        technology = np.random.randint(1, 4) # choose among 1, 2 and 3\n",
    "        node.set('technology', str(technology))\n",
    "        \n",
    "        capacity = np.random.randint(1, max_capacity_charge_stations+1)\n",
    "        node.set('capacity', str(capacity))\n",
    "    \n",
    "    # add coordinates (random)\n",
    "    for node in nodes:\n",
    "        cx = np.random.uniform(cx_low, cx_high)\n",
    "        cy = np.random.uniform(cy_low, cy_high)\n",
    "        node.set('cx', '{:.2f}'.format(cx))\n",
    "        node.set('cy', '{:.2f}'.format(cy))\n",
    "        \n",
    "    # edges\n",
    "    for i in nodes:\n",
    "        nodeFrom = TSubElement(edges, 'node_from', attrib={'id': i.get('id')})\n",
    "        for j in nodes:\n",
    "            nodeTo = TSubElement(nodeFrom, 'node_to', attrib={'id': j.get('id')})\n",
    "            \n",
    "            if i == j:\n",
    "                travelTime = 0.\n",
    "                energyConsumption = 0.\n",
    "            else:\n",
    "                travelTime = np.random.uniform(travel_time_min, travel_time_max)\n",
    "                energyConsumption = np.random.uniform(energy_consumption_min, energy_consumption_max)\n",
    "                \n",
    "            nodeTo.set('travel_time', '{:.2f}'.format(travelTime))\n",
    "            nodeTo.set('energy_consumption', '{:.2f}'.format(energyConsumption))\n",
    "            \n",
    "    # technologies\n",
    "    _tech1 = TSubElement(technologies, 'technology', attrib={'type': str(1)})\n",
    "    _tech2 = TSubElement(technologies, 'technology', attrib={'type': str(2)})\n",
    "    _tech3 = TSubElement(technologies, 'technology', attrib={'type': str(3)})\n",
    "    \n",
    "    tech1 = {'0.0': '0.0', '20.0': '75.0', '50.0': '80.0', '120.0': '100.0'}\n",
    "    tech2 = {'0.0': '0.0', '15.0': '75.0', '40.0': '80.0', '80.0': '100.0'}\n",
    "    tech3 = {'0.0': '0.0', '10.0': '75.0', '25.0': '80.0', '40.0': '100.0'}\n",
    "    \n",
    "    _tech_list = [_tech1, _tech2, _tech3]\n",
    "    tech_list = [tech1, tech2, tech3]\n",
    "    \n",
    "    for _tech, tech in zip(_tech_list, tech_list):\n",
    "        for chargingTime, battLevel in tech.items():\n",
    "            breakPoint = TSubElement(_tech, 'breakpoint')\n",
    "            breakPoint.set('charging_time', chargingTime)\n",
    "            breakPoint.set('battery_level', battLevel)\n",
    "    "
   ]
  },
  {
   "cell_type": "markdown",
   "metadata": {},
   "source": [
    "### Fleet"
   ]
  },
  {
   "cell_type": "code",
   "execution_count": 10,
   "metadata": {},
   "outputs": [],
   "source": [
    "def createFleet(root, fleet):\n",
    "    _fleet = TSubElement(root, 'fleet')\n",
    "    for ev_id, attrib in fleet.items():\n",
    "        attrib['id'] = str(ev_id)\n",
    "        _ev = TSubElement(_fleet, 'electric_vehicle', attrib=attrib)\n",
    "    return\n"
   ]
  },
  {
   "cell_type": "code",
   "execution_count": null,
   "metadata": {},
   "outputs": [],
   "source": [
    "def createTree(numDepots, numCustomers, numChargeStations, attribsEV):\n",
    "    dataElement = ET.Element('instance')\n",
    "    \n",
    "    createInfo(dataElement)\n",
    "    createNetwork(dataElement, numDepots, numCustomers, numChargeStations)\n",
    "    fleetElement = createFleet(dataElement, attribsEV)\n",
    "    \n",
    "    return ET.ElementTree(dataElement)"
   ]
  },
  {
   "cell_type": "code",
   "execution_count": 12,
   "metadata": {
    "pycharm": {
     "is_executing": false
    }
   },
   "outputs": [
    {
     "name": "stdout",
     "output_type": "stream",
     "text": [
      "{'max_payload': '2.5', 'max_tour_duration': '250.0', 'battery_capacity': '220.0', 'alpha_down': '35.0', 'alpha_up': '85.0', 'id': '0'}\n",
      "{'max_payload': '2.5', 'max_tour_duration': '250.0', 'battery_capacity': '220.0', 'alpha_down': '35.0', 'alpha_up': '85.0', 'id': '1'}\n"
     ]
    }
   ],
   "source": [
    "numDepot = 1\n",
    "numCustomer = 7\n",
    "numCS = 2\n",
    "\n",
    "numEV = 2\n",
    "attrib = {'max_payload': '2.5', \n",
    "          'max_tour_duration': '250.0', \n",
    "          'battery_capacity': '220.0', \n",
    "          'alpha_down': '35.0', 'alpha_up':'85.0'}\n",
    "\n",
    "evs ={x:attrib for x in range(numEV)}\n",
    "\n",
    "dataTree = createTree(numDepot, numCustomer, numCS, evs)"
   ]
  },
  {
   "cell_type": "code",
   "execution_count": 13,
   "metadata": {
    "pycharm": {
     "is_executing": false
    }
   },
   "outputs": [
    {
     "name": "stdout",
     "output_type": "stream",
     "text": [
      "Saving to: ../data/GA_implementation_xml/test_instance/test_instance.xml\n"
     ]
    }
   ],
   "source": [
    "#instanceName = 'd'+str(numDepot)+'c'+str(numCustomer)+'cs'+str(numCS)+'_ev'+str(numEV)\n",
    "instanceName = 'test_instance'\n",
    "folderPath = '../data/GA_implementation_xml/'+instanceName\n",
    "filePath = folderPath+'/'+instanceName+'.xml'\n",
    "\n",
    "try:\n",
    "    os.mkdir(folderPath)\n",
    "except FileExistsError:\n",
    "    pass\n",
    "print('Saving to:', filePath)\n",
    "\n",
    "dataTree.write(filePath)"
   ]
  },
  {
   "cell_type": "code",
   "execution_count": 15,
   "metadata": {
    "pycharm": {
     "is_executing": false
    }
   },
   "outputs": [
    {
     "name": "stdout",
     "output_type": "stream",
     "text": [
      "travel time from 0 to 7 : 12.29\n",
      "energy consumption from 0 to 7 : 8.11\n"
     ]
    }
   ],
   "source": [
    "# usage example\n",
    "nodes = dataTree.find('network').find('nodes')\n",
    "edges = dataTree.find('network').find('edges')\n",
    "\n",
    "f = 0\n",
    "t = 7\n",
    "\n",
    "print('travel time from', f, 'to', t, ':', float(edges[f][t].get('travel_time'))) # travel time [f] to [t]\n",
    "print('energy consumption from', f, 'to', t, ':', float(edges[f][t].get('energy_consumption'))) # energy consumption [f] to [t]"
   ]
  },
  {
   "cell_type": "code",
   "execution_count": 16,
   "metadata": {
    "pycharm": {
     "is_executing": false
    }
   },
   "outputs": [
    {
     "name": "stdout",
     "output_type": "stream",
     "text": [
      "NODES IDSs:\n",
      " [0, 1, 2, 3, 4, 5, 6, 7, 8, 9]\n",
      "RESULTING TIME MATRIX:\n",
      " [[ 0.   12.89  3.06 12.08 14.36 27.07 23.9  12.29  5.31  8.86]\n",
      " [32.88  0.   33.14 10.05 24.31  5.95 14.04 29.24 19.27 18.74]\n",
      " [30.43 26.91  0.   12.98 16.59 18.61 23.95 28.06 26.54 19.27]\n",
      " [28.36 18.01  4.84  0.    5.88 25.51 25.68 20.8  25.69 16.47]\n",
      " [15.06 26.47  4.91 13.14  0.    3.83 23.18 34.92 12.8  25.58]\n",
      " [20.55 13.73  4.32  7.86 21.58  0.   28.42 15.59 33.87 11.85]\n",
      " [33.78  8.83 26.57 11.24 22.5  30.24  0.   21.67 16.9  32.12]\n",
      " [33.52 19.65 34.74 29.59 19.71 30.69 23.99  0.   23.04 30.22]\n",
      " [24.02  7.96 10.83 21.07 13.79 28.85 25.07 31.73  0.   12.49]\n",
      " [34.37 31.47 27.74 16.33 10.12  3.33  5.37  3.15 14.21  0.  ]]\n",
      "RESULTING ENERGY CONSUMPTION MATRIX:\n",
      " [[0.   5.67 8.14 3.93 9.91 8.77 2.65 8.11 9.07 2.01]\n",
      " [8.7  0.   4.9  3.46 9.02 7.99 8.3  6.24 5.98 3.05]\n",
      " [8.57 2.78 0.   8.51 8.28 5.49 8.07 5.18 7.56 4.52]\n",
      " [6.33 7.71 9.73 0.   5.15 2.12 6.68 5.88 4.16 4.88]\n",
      " [7.64 8.2  5.77 5.31 0.   3.18 5.05 9.17 5.54 5.7 ]\n",
      " [3.86 7.21 6.72 7.92 5.76 0.   8.82 7.37 9.49 9.45]\n",
      " [2.15 3.24 2.09 5.13 8.34 8.34 0.   3.68 4.96 5.52]\n",
      " [9.51 5.65 7.   5.37 3.91 4.91 8.23 0.   8.7  9.9 ]\n",
      " [4.43 3.74 4.03 9.65 2.8  8.82 5.27 4.43 0.   8.9 ]\n",
      " [6.03 4.65 8.14 9.62 7.5  3.28 6.94 3.49 2.94 0.  ]]\n",
      "RESULTING NODES COORDINATES:\n",
      " {0: (-0.4, 0.26), 1: (-0.19, -0.29), 2: (-0.03, -0.37), 3: (-0.52, -0.49), 4: (-0.87, -0.31), 5: (-0.85, 0.64), 6: (-0.24, 0.95), 7: (-0.75, -0.74), 8: (-0.73, 0.8), 9: (-0.95, 0.37)}\n"
     ]
    }
   ],
   "source": [
    "# example of matrices construction\n",
    "networkSize = len(nodes)\n",
    "\n",
    "nodes_id = [int(x.get('id')) for x in nodes]\n",
    "timeMatrix = np.zeros((networkSize, networkSize))\n",
    "energyMatrix = np.zeros((networkSize, networkSize))\n",
    "coordinates = {}\n",
    "\n",
    "for i, nodeFrom in enumerate(edges):\n",
    "    for j, nodeTo in enumerate(nodeFrom):\n",
    "        timeMatrix[i][j] = float(nodeTo.get('travel_time'))\n",
    "        energyMatrix[i][j] = float(nodeTo.get('energy_consumption'))\n",
    "    coordinates[i] = (float(nodes[i].get('cx')), float(nodes[i].get('cy')))\n",
    "\n",
    "print('NODES IDSs:\\n', nodes_id)\n",
    "print('RESULTING TIME MATRIX:\\n', timeMatrix)\n",
    "print('RESULTING ENERGY CONSUMPTION MATRIX:\\n', energyMatrix)\n",
    "print('RESULTING NODES COORDINATES:\\n',coordinates)"
   ]
  },
  {
   "cell_type": "code",
   "execution_count": 17,
   "metadata": {
    "pycharm": {
     "is_executing": false
    }
   },
   "outputs": [
    {
     "data": {
      "image/png": "[encoded data removed]",
      "text/plain": [
       "<Figure size 432x288 with 1 Axes>"
      ]
     },
     "metadata": {},
     "output_type": "display_data"
    }
   ],
   "source": [
    "# show a graph of resulting network\n",
    "G = nx.MultiDiGraph()\n",
    "\n",
    "G.add_nodes_from(nodes_id)\n",
    "for i, nodeFrom in enumerate(edges):\n",
    "    for j, nodeTo in enumerate(nodeFrom):\n",
    "        G.add_edge(i, j, travel_time=timeMatrix[i][j], energy_consumption=energyMatrix[i][j])\n",
    "\n",
    "nx.draw_networkx(G, with_labels=True, pos=coordinates, node_color='orange')\n",
    "plt.show()"
   ]
  },
  {
   "cell_type": "code",
   "execution_count": 18,
   "metadata": {
    "pycharm": {
     "is_executing": false
    }
   },
   "outputs": [
    {
     "data": {
      "text/plain": [
       "OutMultiEdgeDataView([(0, 0), (0, 1), (0, 2), (0, 3), (0, 4), (0, 5), (0, 6), (0, 7), (0, 8), (0, 9), (1, 0), (1, 1), (1, 2), (1, 3), (1, 4), (1, 5), (1, 6), (1, 7), (1, 8), (1, 9), (2, 0), (2, 1), (2, 2), (2, 3), (2, 4), (2, 5), (2, 6), (2, 7), (2, 8), (2, 9), (3, 0), (3, 1), (3, 2), (3, 3), (3, 4), (3, 5), (3, 6), (3, 7), (3, 8), (3, 9), (4, 0), (4, 1), (4, 2), (4, 3), (4, 4), (4, 5), (4, 6), (4, 7), (4, 8), (4, 9), (5, 0), (5, 1), (5, 2), (5, 3), (5, 4), (5, 5), (5, 6), (5, 7), (5, 8), (5, 9), (6, 0), (6, 1), (6, 2), (6, 3), (6, 4), (6, 5), (6, 6), (6, 7), (6, 8), (6, 9), (7, 0), (7, 1), (7, 2), (7, 3), (7, 4), (7, 5), (7, 6), (7, 7), (7, 8), (7, 9), (8, 0), (8, 1), (8, 2), (8, 3), (8, 4), (8, 5), (8, 6), (8, 7), (8, 8), (8, 9), (9, 0), (9, 1), (9, 2), (9, 3), (9, 4), (9, 5), (9, 6), (9, 7), (9, 8), (9, 9)])"
      ]
     },
     "execution_count": 18,
     "metadata": {},
     "output_type": "execute_result"
    }
   ],
   "source": [
    "G.edges()"
   ]
  },
  {
   "cell_type": "code",
   "execution_count": 9,
   "metadata": {
    "pycharm": {
     "is_executing": false
    }
   },
   "outputs": [],
   "source": []
  }
 ],
 "metadata": {
  "kernelspec": {
   "display_name": "Python 3",
   "language": "python",
   "name": "python3"
  },
  "language_info": {
   "codemirror_mode": {
    "name": "ipython",
    "version": 3
   },
   "file_extension": ".py",
   "mimetype": "text/x-python",
   "name": "python",
   "nbconvert_exporter": "python",
   "pygments_lexer": "ipython3",
   "version": "3.7.3"
  },
  "pycharm": {
   "stem_cell": {
    "cell_type": "raw",
    "metadata": {
     "collapsed": false
    },
    "source": []
   }
  }
 },
 "nbformat": 4,
 "nbformat_minor": 4
}
