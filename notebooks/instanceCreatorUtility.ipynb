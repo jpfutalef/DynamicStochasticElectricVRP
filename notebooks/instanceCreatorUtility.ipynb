{
 "cells": [
  {
   "cell_type": "markdown",
   "metadata": {},
   "source": [
    "# Instance creator utility\n",
    "\n",
    "data  \n",
    "|-->info  \n",
    "&nbsp;&nbsp;&nbsp;&nbsp;&nbsp;&nbsp;    |-->name  \n",
    "&nbsp;&nbsp;&nbsp;&nbsp;&nbsp;&nbsp;    |-->description  \n",
    "|-->network  \n",
    "&nbsp;&nbsp;&nbsp;&nbsp;&nbsp;&nbsp;    |-->nodes  \n",
    "&nbsp;&nbsp;&nbsp;&nbsp;&nbsp;&nbsp;&nbsp;&nbsp;&nbsp;&nbsp;&nbsp;&nbsp;        |-->node 0  \n",
    "&nbsp;&nbsp;&nbsp;&nbsp;&nbsp;&nbsp;&nbsp;&nbsp;&nbsp;&nbsp;&nbsp;&nbsp;        .  \n",
    "&nbsp;&nbsp;&nbsp;&nbsp;&nbsp;&nbsp;&nbsp;&nbsp;&nbsp;&nbsp;&nbsp;&nbsp;        .  \n",
    "&nbsp;&nbsp;&nbsp;&nbsp;&nbsp;&nbsp;    |-->info  \n",
    "|-->requests  \n",
    "|-->fleet  "
   ]
  },
  {
   "cell_type": "code",
   "execution_count": 1,
   "metadata": {},
   "outputs": [],
   "source": [
    "import xml.etree.ElementTree as ET\n",
    "import numpy as np\n",
    "import matplotlib.pyplot as plt\n",
    "import networkx as nx"
   ]
  },
  {
   "cell_type": "code",
   "execution_count": 2,
   "metadata": {},
   "outputs": [],
   "source": [
    "def TSubElement(parent, tag, attrib={}, text=None, **extra):\n",
    "    element = ET.SubElement(parent, tag, attrib, **extra)\n",
    "    if text:\n",
    "        element.text = text\n",
    "    return element"
   ]
  },
  {
   "cell_type": "markdown",
   "metadata": {},
   "source": [
    "### XML tree related functions"
   ]
  },
  {
   "cell_type": "code",
   "execution_count": 3,
   "metadata": {},
   "outputs": [],
   "source": [
    "def createInfo(root, name='', description=''):\n",
    "    info = TSubElement(root, 'info')\n",
    "    _name = TSubElement(info, 'name', text=name)\n",
    "    _description = TSubElement(info, 'description', text=description)\n",
    "    return\n",
    "\n",
    "def createNetwork(root, numDepots, numCustomers, numChargeStations, \n",
    "                  cx_low=-1.0, cx_high=1.0, cy_low=-1.0, cy_high=1.0, \n",
    "                  request_min=0.01, request_max=0.8, \n",
    "                  tw_low_low=600.0, tw_low_high=960.0, tw_min_width= 20.0, tw_max_width=120.0, \n",
    "                  travel_time_min=3., travel_time_max=35., \n",
    "                  energy_consumption_min=2.0, energy_consumption_max=10.0,\n",
    "                  max_capacity_charge_stations=4):\n",
    "    \n",
    "    network = TSubElement(root, 'network')\n",
    "    nodes = TSubElement(network, 'nodes') # stores the nodes\n",
    "    arcs = TSubElement(network, 'arcs') # stores arcs\n",
    "    info = TSubElement(network, 'info') # stores info about the network\n",
    "    technologies = TSubElement(network, 'technologies') # stores info about CS techonologies\n",
    "    \n",
    "    # depot nodes\n",
    "    for i in range(numDepots):\n",
    "        attr = {'id': str(i), 'type': str(0)}\n",
    "        node = TSubElement(nodes, 'node', attrib=attr)\n",
    "\n",
    "    # customer nodes\n",
    "    for i in range(i+1, i+numCustomers+1):\n",
    "        attr = {'id': str(i), 'type': str(1)}\n",
    "        node = TSubElement(nodes, 'node', attrib=attr)\n",
    "        \n",
    "        request = np.random.uniform(request_min, request_max)\n",
    "        _request = TSubElement(node, 'request', text='{:.2f}'.format(request))\n",
    "        \n",
    "        tw_low = np.random.uniform(tw_low_low, tw_low_high)\n",
    "        tw_upp = tw_low + np.random.uniform(tw_min_width, tw_max_width)\n",
    "        _tw_low = TSubElement(node, 'tw_low', text='{:.2f}'.format(tw_low))\n",
    "        _tw_upp = TSubElement(node, 'tw_upp', text='{:.2f}'.format(tw_upp))\n",
    "\n",
    "    # CS nodes\n",
    "    for i in range(i+1, i+numChargeStations+1):\n",
    "        attr = {'id': str(i), 'type': str(2)}\n",
    "        node = TSubElement(nodes, 'node', attrib=attr)\n",
    "        \n",
    "        technology = np.random.randint(1, 4) # choose among 1, 2 and 3\n",
    "        _technology = TSubElement(node, 'technology', text=str(technology))\n",
    "        \n",
    "        capacity = np.random.randint(1, max_capacity_charge_stations+1)\n",
    "        _capatity = TSubElement(node, 'capacity', text=str(capacity))\n",
    "    \n",
    "    # add coordinates (random)\n",
    "    for node in nodes:\n",
    "        cx = np.random.uniform(cx_low, cx_high)\n",
    "        cy = np.random.uniform(cy_low, cy_high)\n",
    "        _cx = TSubElement(node, 'cx', text='{:.2f}'.format(cx))\n",
    "        _cy = TSubElement(node, 'cy', text='{:.2f}'.format(cy))\n",
    "        \n",
    "    # Arcs\n",
    "    for i in nodes:\n",
    "        nodeFrom = TSubElement(arcs, 'node_from', attrib={'id': i.get('id')})\n",
    "        for j in nodes:\n",
    "            nodeTo = TSubElement(nodeFrom, 'node_to', attrib={'id': j.get('id')})\n",
    "            \n",
    "            if i == j:\n",
    "                travelTime = 0.\n",
    "                energyConsumption = 0.\n",
    "            else:\n",
    "                travelTime = np.random.uniform(travel_time_min, travel_time_max)\n",
    "                energyConsumption = np.random.uniform(energy_consumption_min, energy_consumption_max)\n",
    "                \n",
    "            _travelTime = TSubElement(nodeTo, 'travel_time', text='{:.2f}'.format(travelTime))\n",
    "            _energyConsumption = TSubElement(nodeTo, 'energy_consumption', text='{:.2f}'.format(energyConsumption))\n",
    "            \n",
    "    # technologies\n",
    "    _tech1 = TSubElement(technologies, 'technology', attrib={'type': str(1)})\n",
    "    _tech2 = TSubElement(technologies, 'technology', attrib={'type': str(2)})\n",
    "    _tech3 = TSubElement(technologies, 'technology', attrib={'type': str(3)})\n",
    "    \n",
    "    tech1 = {'0.0': '0.0', '20.0': '75.0', '50.0': '80.0', '120.0': '100.0'}\n",
    "    tech2 = {'0.0': '0.0', '15.0': '75.0', '40.0': '80.0', '80.0': '100.0'}\n",
    "    tech3 = {'0.0': '0.0', '10.0': '75.0', '25.0': '80.0', '40.0': '100.0'}\n",
    "    \n",
    "    _tech_list = [_tech1, _tech2, _tech3]\n",
    "    tech_list = [tech1, tech2, tech3]\n",
    "    \n",
    "    for _tech, tech in zip(_tech_list, tech_list):\n",
    "        for chargingTime, battLevel in tech.items():\n",
    "            breakPoint = TSubElement(_tech, 'breakpoint')\n",
    "            _chargingTime = TSubElement(breakPoint, 'charging_time', text=chargingTime)\n",
    "            _battLevel = TSubElement(breakPoint, 'battery_level', text= battLevel)\n",
    "        \n",
    "def createRequests(root):\n",
    "    nodes = root.find('network').find('nodes')\n",
    "    for node in nodes:\n",
    "        if node.get('type') == '1':\n",
    "            pass\n",
    "    return\n",
    "\n",
    "def createFleet(root, numEV, attrib):\n",
    "    _fleet = TSubElement(root, 'fleet')\n",
    "    _numEV = TSubElement(_fleet, 'fleet_size', text=str(numEV))\n",
    "    _attributes = TSubElement(_fleet, 'vehicle_attributes')\n",
    "    for attr, val in attrib.items():\n",
    "        _attr = TSubElement(_attributes, str(attr), text=str(val))\n",
    "    return\n",
    "\n",
    "def createTree(numDepots, numCustomers, numChargeStations, numEV, attribsEV):\n",
    "    dataElement = ET.Element('instance')\n",
    "    \n",
    "    infoElement = createInfo(dataElement)\n",
    "    networkElement = createNetwork(dataElement, numDepots, numCustomers, numChargeStations)\n",
    "    requestsElement = createRequests(dataElement)\n",
    "    \n",
    "    fleetElement = createFleet(dataElement, numEV, attribsEV)\n",
    "    \n",
    "    return ET.ElementTree(dataElement)"
   ]
  },
  {
   "cell_type": "code",
   "execution_count": 4,
   "metadata": {},
   "outputs": [],
   "source": [
    "numDepot = 1\n",
    "numCustomer = 5\n",
    "numCS = 4\n",
    "\n",
    "numEV = 4\n",
    "attrib = {'max_payload': 1.5, 'max_tour_duration': 250.0}\n",
    "\n",
    "dataTree = createTree(numDepot, numCustomer, numCS, numEV, attrib)\n",
    "\n",
    "instanceName = 'd'+str(numDepot)+'c'+str(numCustomer)+'cs'+str(numCS)+'_ev'+str(numEV)\n",
    "dataTree.write(instanceName+'.xml')"
   ]
  },
  {
   "cell_type": "code",
   "execution_count": 5,
   "metadata": {},
   "outputs": [
    {
     "name": "stdout",
     "output_type": "stream",
     "text": [
      "travel time from 0 to 7 : 34.62\n",
      "energy consumption from 0 to 7 : 6.58\n"
     ]
    }
   ],
   "source": [
    "# usage example\n",
    "nodes = dataTree.find('network').find('nodes')\n",
    "arcs = dataTree.find('network').find('arcs')\n",
    "\n",
    "f = 0\n",
    "t = 7\n",
    "\n",
    "print('travel time from', f, 'to', t, ':', float(arcs[f][t][0].text)) # travel time [f] to [t]\n",
    "print('energy consumption from', f, 'to', t, ':', float(arcs[f][t][1].text)) # energy consumption [f] to [t]"
   ]
  },
  {
   "cell_type": "code",
   "execution_count": 12,
   "metadata": {},
   "outputs": [
    {
     "name": "stdout",
     "output_type": "stream",
     "text": [
      "NODES IDSs:\n",
      " [0, 1, 2, 3, 4, 5, 6, 7, 8, 9]\n",
      "RESULTING TIME MATRIX:\n",
      " [[ 0.   13.95 22.01 10.73 13.4   7.92 22.41 34.62 15.   14.28]\n",
      " [25.97  0.   11.24  9.07 28.53 32.91 25.76 23.42 19.45  9.64]\n",
      " [31.85  8.97  0.    3.15  8.56 15.1  22.93 29.22  8.65 12.94]\n",
      " [27.39 22.23  4.19  0.   23.5  34.47 30.34 30.78  5.28 16.07]\n",
      " [22.63 32.33 28.93 12.11  0.   32.45 24.78 20.64 31.77 28.57]\n",
      " [20.31 17.15 22.32 24.8  23.02  0.   19.83 29.   23.71 34.63]\n",
      " [22.34 29.86 15.57 34.54 17.42 19.5   0.   29.09 26.34 24.01]\n",
      " [ 9.95 17.03 19.71 11.51 23.96 31.95  7.75  0.    6.9  23.34]\n",
      " [22.92  7.14  9.08 31.57 30.03 20.66  6.39 27.86  0.   12.65]\n",
      " [ 5.07 14.08 17.31 13.85 33.13 15.07 21.04 19.23 11.67  0.  ]]\n",
      "RESULTING ENERGY CONSUMPTION MATRIX:\n",
      " [[0.   3.98 8.63 6.08 4.59 2.32 7.56 6.58 8.87 8.79]\n",
      " [8.8  0.   7.06 5.12 9.19 8.92 4.36 4.16 5.9  7.04]\n",
      " [2.19 8.89 0.   7.14 6.87 2.17 6.23 4.2  9.81 9.04]\n",
      " [2.26 3.83 6.23 0.   6.51 5.29 5.87 6.77 9.3  3.49]\n",
      " [2.67 7.41 3.88 4.81 0.   3.76 3.03 9.23 5.6  5.41]\n",
      " [2.84 8.61 4.98 4.94 9.59 0.   4.35 9.82 2.96 4.12]\n",
      " [6.53 4.48 3.16 4.93 4.47 2.6  0.   3.17 9.6  4.52]\n",
      " [3.92 9.05 6.73 7.46 6.2  3.75 2.49 0.   6.15 7.12]\n",
      " [5.7  8.11 8.44 9.09 3.8  5.41 4.93 8.98 0.   4.89]\n",
      " [6.77 3.5  3.46 3.39 8.84 2.96 8.3  7.78 3.44 0.  ]]\n",
      "RESULTING NODES COORDINATES:\n",
      " {0: (0.82, -0.6), 1: (-0.82, -0.76), 2: (0.32, -0.56), 3: (-0.23, 0.56), 4: (-0.27, 0.37), 5: (0.66, 0.64), 6: (0.36, -0.37), 7: (0.37, -0.44), 8: (-0.88, -0.73), 9: (-0.28, -0.3)}\n"
     ]
    }
   ],
   "source": [
    "# example of matrices construction\n",
    "networkSize = len(nodes)\n",
    "\n",
    "nodes_id = [int(x.get('id')) for x in nodes]\n",
    "timeMatrix = np.zeros((networkSize, networkSize))\n",
    "energyMatrix = np.zeros((networkSize, networkSize))\n",
    "coordinates = {}\n",
    "\n",
    "for i, nodeFrom in enumerate(arcs):\n",
    "    for j, nodeTo in enumerate(nodeFrom):\n",
    "        timeMatrix[i][j] = float(nodeTo[0].text)\n",
    "        energyMatrix[i][j] = float(nodeTo[1].text)\n",
    "    coordinates[i] = (float(nodes[i].find('cx').text), float(nodes[i].find('cy').text))\n",
    "\n",
    "print('NODES IDSs:\\n', nodes_id)\n",
    "print('RESULTING TIME MATRIX:\\n', timeMatrix)\n",
    "print('RESULTING ENERGY CONSUMPTION MATRIX:\\n', energyMatrix)\n",
    "print('RESULTING NODES COORDINATES:\\n',coordinates)"
   ]
  },
  {
   "cell_type": "code",
   "execution_count": 45,
   "metadata": {},
   "outputs": [
    {
     "data": {
      "image/png": "[encoded data removed]",
      "text/plain": [
       "<Figure size 432x288 with 1 Axes>"
      ]
     },
     "metadata": {},
     "output_type": "display_data"
    }
   ],
   "source": [
    "# show a graph of resulting network\n",
    "G = nx.MultiDiGraph()\n",
    "\n",
    "G.add_nodes_from(nodes_id)\n",
    "for i, nodeFrom in enumerate(arcs):\n",
    "    for j, nodeTo in enumerate(nodeFrom):\n",
    "        G.add_edge(i, j, travel_time=timeMatrix[i][j], energy_consumption=energyMatrix[i][j])\n",
    "\n",
    "nx.draw_networkx(G, with_labels=True, pos=coordinates, node_color='orange')\n",
    "plt.show()"
   ]
  },
  {
   "cell_type": "code",
   "execution_count": 51,
   "metadata": {},
   "outputs": [
    {
     "data": {
      "text/plain": [
       "OutMultiEdgeDataView([(0, 0), (0, 1), (0, 2), (0, 3), (0, 4), (0, 5), (0, 6), (0, 7), (0, 8), (0, 9), (1, 0), (1, 1), (1, 2), (1, 3), (1, 4), (1, 5), (1, 6), (1, 7), (1, 8), (1, 9), (2, 0), (2, 1), (2, 2), (2, 3), (2, 4), (2, 5), (2, 6), (2, 7), (2, 8), (2, 9), (3, 0), (3, 1), (3, 2), (3, 3), (3, 4), (3, 5), (3, 6), (3, 7), (3, 8), (3, 9), (4, 0), (4, 1), (4, 2), (4, 3), (4, 4), (4, 5), (4, 6), (4, 7), (4, 8), (4, 9), (5, 0), (5, 1), (5, 2), (5, 3), (5, 4), (5, 5), (5, 6), (5, 7), (5, 8), (5, 9), (6, 0), (6, 1), (6, 2), (6, 3), (6, 4), (6, 5), (6, 6), (6, 7), (6, 8), (6, 9), (7, 0), (7, 1), (7, 2), (7, 3), (7, 4), (7, 5), (7, 6), (7, 7), (7, 8), (7, 9), (8, 0), (8, 1), (8, 2), (8, 3), (8, 4), (8, 5), (8, 6), (8, 7), (8, 8), (8, 9), (9, 0), (9, 1), (9, 2), (9, 3), (9, 4), (9, 5), (9, 6), (9, 7), (9, 8), (9, 9)])"
      ]
     },
     "execution_count": 51,
     "metadata": {},
     "output_type": "execute_result"
    }
   ],
   "source": [
    "G.edges()"
   ]
  }
 ],
 "metadata": {
  "kernelspec": {
   "display_name": "Python 3",
   "language": "python",
   "name": "python3"
  },
  "language_info": {
   "codemirror_mode": {
    "name": "ipython",
    "version": 3
   },
   "file_extension": ".py",
   "mimetype": "text/x-python",
   "name": "python",
   "nbconvert_exporter": "python",
   "pygments_lexer": "ipython3",
   "version": "3.7.3"
  }
 },
 "nbformat": 4,
 "nbformat_minor": 4
}
