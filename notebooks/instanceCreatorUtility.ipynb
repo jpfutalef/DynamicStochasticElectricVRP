{
 "cells": [
  {
   "cell_type": "markdown",
   "metadata": {},
   "source": [
    "# Instance creator utility\n",
    "\n",
    "data  \n",
    "|-->info  \n",
    "&nbsp;&nbsp;&nbsp;&nbsp;&nbsp;&nbsp;    |-->name  \n",
    "&nbsp;&nbsp;&nbsp;&nbsp;&nbsp;&nbsp;    |-->description  \n",
    "|-->network  \n",
    "&nbsp;&nbsp;&nbsp;&nbsp;&nbsp;&nbsp;    |-->nodes  \n",
    "&nbsp;&nbsp;&nbsp;&nbsp;&nbsp;&nbsp;&nbsp;&nbsp;&nbsp;&nbsp;&nbsp;&nbsp;        |-->node 0  \n",
    "&nbsp;&nbsp;&nbsp;&nbsp;&nbsp;&nbsp;&nbsp;&nbsp;&nbsp;&nbsp;&nbsp;&nbsp;        .  \n",
    "&nbsp;&nbsp;&nbsp;&nbsp;&nbsp;&nbsp;&nbsp;&nbsp;&nbsp;&nbsp;&nbsp;&nbsp;        .  \n",
    "&nbsp;&nbsp;&nbsp;&nbsp;&nbsp;&nbsp;    |-->info  \n",
    "|-->requests  \n",
    "|-->fleet  "
   ]
  },
  {
   "cell_type": "code",
   "execution_count": 12,
   "metadata": {},
   "outputs": [],
   "source": [
    "import xml.etree.ElementTree as ET\n",
    "import numpy as np\n",
    "import matplotlib.pyplot as plt\n",
    "import networkx as nx"
   ]
  },
  {
   "cell_type": "code",
   "execution_count": 2,
   "metadata": {},
   "outputs": [],
   "source": [
    "def TSubElement(parent, tag, attrib={}, text=None, **extra):\n",
    "    element = ET.SubElement(parent, tag, attrib, **extra)\n",
    "    if text:\n",
    "        element.text = text\n",
    "    return element"
   ]
  },
  {
   "cell_type": "markdown",
   "metadata": {},
   "source": [
    "### XML tree related functions"
   ]
  },
  {
   "cell_type": "code",
   "execution_count": 3,
   "metadata": {},
   "outputs": [],
   "source": [
    "def createInfo(root, name='', description=''):\n",
    "    info = TSubElement(root, 'info')\n",
    "    _name = TSubElement(info, 'name', text=name)\n",
    "    _description = TSubElement(info, 'description', text=description)\n",
    "    return\n",
    "\n",
    "def createNetwork(root, numDepots, numCustomers, numChargeStations, \n",
    "                  cx_low=-1.0, cx_high=1.0, cy_low=-1.0, cy_high=1.0, \n",
    "                  request_min=0.01, request_max=0.8, \n",
    "                  tw_low_low=600.0, tw_low_high=960.0, tw_min_width= 20.0, tw_max_width=120.0, \n",
    "                  travel_time_min=3., travel_time_max=35., \n",
    "                  energy_consumption_min=2.0, energy_consumption_max=10.0,\n",
    "                  max_capacity_charge_stations=4):\n",
    "    \n",
    "    network = TSubElement(root, 'network')\n",
    "    nodes = TSubElement(network, 'nodes') # stores the nodes\n",
    "    arcs = TSubElement(network, 'arcs') # stores arcs\n",
    "    info = TSubElement(network, 'info') # stores info about the network\n",
    "    technologies = TSubElement(network, 'technologies') # stores info about CS techonologies\n",
    "    \n",
    "    # depot nodes\n",
    "    for i in range(numDepots):\n",
    "        attr = {'id': str(i), 'type': str(0)}\n",
    "        node = TSubElement(nodes, 'node', attrib=attr)\n",
    "\n",
    "    # customer nodes\n",
    "    for i in range(i+1, i+numCustomers+1):\n",
    "        attr = {'id': str(i), 'type': str(1)}\n",
    "        node = TSubElement(nodes, 'node', attrib=attr)\n",
    "        \n",
    "        request = np.random.uniform(request_min, request_max)\n",
    "        _request = TSubElement(node, 'request', text='{:.2f}'.format(request))\n",
    "        \n",
    "        tw_low = np.random.uniform(tw_low_low, tw_low_high)\n",
    "        tw_upp = tw_low + np.random.uniform(tw_min_width, tw_max_width)\n",
    "        _tw_low = TSubElement(node, 'tw_low', text='{:.2f}'.format(tw_low))\n",
    "        _tw_upp = TSubElement(node, 'tw_upp', text='{:.2f}'.format(tw_upp))\n",
    "\n",
    "    # CS nodes\n",
    "    for i in range(i+1, i+numChargeStations+1):\n",
    "        attr = {'id': str(i), 'type': str(2)}\n",
    "        node = TSubElement(nodes, 'node', attrib=attr)\n",
    "        \n",
    "        technology = np.random.randint(1, 4) # choose among 1, 2 and 3\n",
    "        _technology = TSubElement(node, 'technology', text=str(technology))\n",
    "        \n",
    "        capacity = np.random.randint(1, max_capacity_charge_stations+1)\n",
    "        _capatity = TSubElement(node, 'capacity', text=str(capacity))\n",
    "    \n",
    "    # add coordinates (random)\n",
    "    for node in nodes:\n",
    "        cx = np.random.uniform(cx_low, cx_high)\n",
    "        cy = np.random.uniform(cy_low, cy_high)\n",
    "        _cx = TSubElement(node, 'cx', text='{:.2f}'.format(cx))\n",
    "        _cy = TSubElement(node, 'cy', text='{:.2f}'.format(cy))\n",
    "        \n",
    "    # Arcs\n",
    "    for i in nodes:\n",
    "        nodeFrom = TSubElement(arcs, 'node_from', attrib={'id': i.get('id')})\n",
    "        for j in nodes:\n",
    "            nodeTo = TSubElement(nodeFrom, 'node_to', attrib={'id': j.get('id')})\n",
    "            \n",
    "            if i == j:\n",
    "                travelTime = 0.\n",
    "                energyConsumption = 0.\n",
    "            else:\n",
    "                travelTime = np.random.uniform(travel_time_min, travel_time_max)\n",
    "                energyConsumption = np.random.uniform(energy_consumption_min, energy_consumption_max)\n",
    "                \n",
    "            _travelTime = TSubElement(nodeTo, 'travel_time', text='{:.2f}'.format(travelTime))\n",
    "            _energyConsumption = TSubElement(nodeTo, 'energy_consumption', text='{:.2f}'.format(energyConsumption))\n",
    "            \n",
    "    # technologies\n",
    "    _tech1 = TSubElement(technologies, 'technology', attrib={'type': str(1)})\n",
    "    _tech2 = TSubElement(technologies, 'technology', attrib={'type': str(2)})\n",
    "    _tech3 = TSubElement(technologies, 'technology', attrib={'type': str(3)})\n",
    "    \n",
    "    tech1 = {'0.0': '0.0', '20.0': '75.0', '50.0': '80.0', '120.0': '100.0'}\n",
    "    tech2 = {'0.0': '0.0', '15.0': '75.0', '40.0': '80.0', '80.0': '100.0'}\n",
    "    tech3 = {'0.0': '0.0', '10.0': '75.0', '25.0': '80.0', '40.0': '100.0'}\n",
    "    \n",
    "    _tech_list = [_tech1, _tech2, _tech3]\n",
    "    tech_list = [tech1, tech2, tech3]\n",
    "    \n",
    "    for _tech, tech in zip(_tech_list, tech_list):\n",
    "        for chargingTime, battLevel in tech.items():\n",
    "            breakPoint = TSubElement(_tech, 'breakpoint')\n",
    "            _chargingTime = TSubElement(breakPoint, 'charging_time', text=chargingTime)\n",
    "            _battLevel = TSubElement(breakPoint, 'battery_level', text= battLevel)\n",
    "        \n",
    "def createRequests(root):\n",
    "    nodes = root.find('network').find('nodes')\n",
    "    for node in nodes:\n",
    "        if node.get('type') == '1':\n",
    "            pass\n",
    "    return\n",
    "\n",
    "def createFleet(root, numEV, attrib):\n",
    "    _fleet = TSubElement(root, 'fleet')\n",
    "    _numEV = TSubElement(_fleet, 'fleet_size', text=str(numEV))\n",
    "    _attributes = TSubElement(_fleet, 'vehicle_attributes')\n",
    "    for attr, val in attrib.items():\n",
    "        _attr = TSubElement(_attributes, str(attr), text=str(val))\n",
    "    return\n",
    "\n",
    "def createTree(numDepots, numCustomers, numChargeStations, numEV, attribsEV):\n",
    "    dataElement = ET.Element('instance')\n",
    "    \n",
    "    infoElement = createInfo(dataElement)\n",
    "    networkElement = createNetwork(dataElement, numDepots, numCustomers, numChargeStations)\n",
    "    requestsElement = createRequests(dataElement)\n",
    "    \n",
    "    fleetElement = createFleet(dataElement, numEV, attribsEV)\n",
    "    \n",
    "    return ET.ElementTree(dataElement)"
   ]
  },
  {
   "cell_type": "code",
   "execution_count": 4,
   "metadata": {},
   "outputs": [],
   "source": [
    "numDepot = 1\n",
    "numCustomer = 5\n",
    "numCS = 4\n",
    "\n",
    "numEV = 4\n",
    "attrib = {'max_payload': 1.5, 'max_tour_duration': 250.0}\n",
    "\n",
    "dataTree = createTree(numDepot, numCustomer, numCS, numEV, attrib)\n",
    "\n",
    "instanceName = 'd'+str(numDepot)+'c'+str(numCustomer)+'cs'+str(numCS)+'_ev'+str(numEV)\n",
    "dataTree.write(instanceName+'.xml')"
   ]
  },
  {
   "cell_type": "code",
   "execution_count": 5,
   "metadata": {},
   "outputs": [
    {
     "name": "stdout",
     "output_type": "stream",
     "text": [
      "travel time from 0 to 7 : 26.35\n",
      "energy consumption from 0 to 7 : 2.53\n"
     ]
    }
   ],
   "source": [
    "# usage example\n",
    "nodes = dataTree.find('network').find('nodes')\n",
    "arcs = dataTree.find('network').find('arcs')\n",
    "\n",
    "f = 0\n",
    "t = 7\n",
    "\n",
    "print('travel time from', f, 'to', t, ':', float(arcs[f][t][0].text)) # travel time [f] to [t]\n",
    "print('energy consumption from', f, 'to', t, ':', float(arcs[f][t][1].text)) # energy consumption [f] to [t]"
   ]
  },
  {
   "cell_type": "code",
   "execution_count": 11,
   "metadata": {},
   "outputs": [
    {
     "name": "stdout",
     "output_type": "stream",
     "text": [
      "RESULTING TIME MATRIX:\n",
      " [[ 0.   27.58 22.62 34.   32.89 29.01 15.65 26.35 20.03  4.82]\n",
      " [26.21  0.   16.86 21.05 19.16 22.49 18.22 12.29 26.03  9.78]\n",
      " [ 5.27 20.22  0.   22.55 21.35 23.42 16.71 14.24 34.96 28.09]\n",
      " [30.69 17.86 31.1   0.    8.53 12.57 16.27 18.33 10.05 14.26]\n",
      " [21.97 24.44 28.61 13.57  0.   10.57 26.23 28.64 33.44 23.07]\n",
      " [26.11 18.14  6.69 32.01  4.96  0.   13.01 15.93  4.66 19.87]\n",
      " [30.68 27.94  7.45 31.95 24.19 13.24  0.    5.57 30.67  5.64]\n",
      " [11.47 32.97 16.22  6.97 13.24 19.22 20.17  0.   24.65  9.13]\n",
      " [28.98 26.77 12.97 21.34  7.3  16.84 32.21 30.28  0.   25.51]\n",
      " [25.63 10.57 10.12 25.32  8.94 23.42 17.86 32.63 30.97  0.  ]]\n",
      "RESULTING ENERGY CONSUMPTION MATRIX:\n",
      " [[0.   7.27 8.7  6.03 9.07 2.67 5.89 2.53 8.22 8.58]\n",
      " [2.96 0.   2.81 8.77 5.14 4.47 2.78 5.43 4.5  8.49]\n",
      " [6.5  5.96 0.   4.8  2.47 4.19 3.27 9.37 7.94 2.1 ]\n",
      " [8.76 9.96 9.02 0.   5.06 7.93 4.95 5.6  6.27 5.93]\n",
      " [8.81 7.21 5.94 2.89 0.   3.61 2.22 7.25 4.59 7.95]\n",
      " [5.91 2.36 6.59 7.35 7.85 0.   2.34 7.32 7.51 3.02]\n",
      " [3.21 9.78 7.37 4.16 4.13 2.83 0.   2.06 2.57 5.34]\n",
      " [2.35 5.6  4.28 5.88 3.15 3.36 4.03 0.   8.79 8.81]\n",
      " [8.67 4.97 6.38 4.94 2.11 2.66 7.42 2.19 0.   5.19]\n",
      " [3.32 3.86 3.95 2.59 5.39 8.13 6.47 8.41 5.18 0.  ]]\n",
      "RESULTING NODES COORDINATES:\n",
      " [(-0.26, 0.05), (-0.25, -0.99), (0.59, -0.2), (0.96, -0.22), (0.55, 0.53), (-0.18, -0.04), (-0.65, -0.95), (0.89, -0.34), (0.1, -0.92), (0.61, -0.04)]\n"
     ]
    }
   ],
   "source": [
    "# example of matrices construction\n",
    "networkSize = len(nodes)\n",
    "\n",
    "timeMatrix = np.zeros((networkSize, networkSize))\n",
    "energyMatrix = np.zeros((networkSize, networkSize))\n",
    "coordinates = [0]*networkSize\n",
    "\n",
    "for i, nodeFrom in enumerate(arcs):\n",
    "    for j, nodeTo in enumerate(nodeFrom):\n",
    "        timeMatrix[i][j] = float(nodeTo[0].text)\n",
    "        energyMatrix[i][j] = float(nodeTo[1].text)\n",
    "    coordinates[i] = (float(nodes[i].find('cx').text), float(nodes[i].find('cy').text))\n",
    "        \n",
    "print('RESULTING TIME MATRIX:\\n', timeMatrix)\n",
    "print('RESULTING ENERGY CONSUMPTION MATRIX:\\n', energyMatrix)\n",
    "print('RESULTING NODES COORDINATES:\\n',coordinates)"
   ]
  },
  {
   "cell_type": "code",
   "execution_count": 13,
   "metadata": {},
   "outputs": [],
   "source": [
    "# show a graph of resulting network\n",
    "G = nx.Graph()\n"
   ]
  },
  {
   "cell_type": "code",
   "execution_count": null,
   "metadata": {},
   "outputs": [],
   "source": []
  }
 ],
 "metadata": {
  "kernelspec": {
   "display_name": "Python 3",
   "language": "python",
   "name": "python3"
  },
  "language_info": {
   "codemirror_mode": {
    "name": "ipython",
    "version": 3
   },
   "file_extension": ".py",
   "mimetype": "text/x-python",
   "name": "python",
   "nbconvert_exporter": "python",
   "pygments_lexer": "ipython3",
   "version": "3.7.3"
  }
 },
 "nbformat": 4,
 "nbformat_minor": 4
}
