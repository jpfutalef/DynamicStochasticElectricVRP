{
 "cells": [
  {
   "cell_type": "markdown",
   "metadata": {},
   "source": [
    "# Instance creator utility (realtime)"
   ]
  },
  {
   "cell_type": "markdown",
   "metadata": {},
   "source": [
    "## Imports"
   ]
  },
  {
   "cell_type": "code",
   "execution_count": 1,
   "metadata": {
    "pycharm": {
     "is_executing": false
    }
   },
   "outputs": [],
   "source": [
    "import numpy as np\n",
    "import matplotlib.pyplot as plt\n",
    "import networkx as nx\n",
    "import os\n",
    "import sys\n",
    "import copy\n",
    "import random\n",
    "\n",
    "import xml.dom.minidom\n",
    "import xml.etree.ElementTree as ET\n",
    "\n",
    "sys.path.append('..')\n",
    "from models.Fleet import Fleet, from_xml"
   ]
  },
  {
   "cell_type": "code",
   "execution_count": 2,
   "metadata": {
    "pycharm": {
     "is_executing": false
    }
   },
   "outputs": [],
   "source": [
    "def TSubElement(parent, tag, attrib={}, text=None, **extra):\n",
    "    element = ET.SubElement(parent, tag, attrib, **extra)\n",
    "    if text:\n",
    "        element.text = text\n",
    "    return element"
   ]
  },
  {
   "cell_type": "markdown",
   "metadata": {},
   "source": [
    "## ET handler methods\n",
    "### Info"
   ]
  },
  {
   "cell_type": "code",
   "execution_count": 3,
   "metadata": {},
   "outputs": [],
   "source": [
    "def createInfo(root, name='', description=''):\n",
    "    info = TSubElement(root, 'info')\n",
    "    _name = TSubElement(info, 'name', text=name)\n",
    "    _description = TSubElement(info, 'description', text=description)\n",
    "    return"
   ]
  },
  {
   "cell_type": "markdown",
   "metadata": {},
   "source": [
    "### Network"
   ]
  },
  {
   "cell_type": "code",
   "execution_count": 4,
   "metadata": {
    "pycharm": {
     "is_executing": false
    }
   },
   "outputs": [],
   "source": [
    "def createNetwork(root, depots, customers, charging_stations, \n",
    "                  cx_low=-1.0, cx_high=1.0, cy_low=-1.0, cy_high=1.0, \n",
    "                  request_min=0.01, request_max=0.8,\n",
    "                  spent_time_min=2.0, spent_time_max=15.0,\n",
    "                  tw_low_low=600.0, tw_low_high=960.0, tw_min_width= 20.0, tw_max_width=120.0, \n",
    "                  travel_time_min=3., travel_time_max=35., \n",
    "                  energy_consumption_min=2.0, energy_consumption_max=10.0,\n",
    "                  max_capacity_charge_stations=4):\n",
    "    \n",
    "    network = TSubElement(root, 'network')\n",
    "    nodes = TSubElement(network, 'nodes') # stores the nodes\n",
    "    edges = TSubElement(network, 'edges') # stores edges\n",
    "    info = TSubElement(network, 'info') # stores info about the network\n",
    "    technologies = TSubElement(network, 'technologies') # stores info about CS techonologies\n",
    "    \n",
    "    # depot nodes\n",
    "    for i in depots:\n",
    "        attr = {'id': str(i), 'type': str(0)}\n",
    "        node = TSubElement(nodes, 'node', attrib=attr)\n",
    "\n",
    "    # customer nodes\n",
    "    for i in customers:\n",
    "        attr = {'id': str(i), 'type': str(1)}\n",
    "        node = TSubElement(nodes, 'node', attrib=attr)\n",
    "        \n",
    "        request = np.random.uniform(request_min, request_max)\n",
    "        node.set('demand', '{:.2f}'.format(request))\n",
    "        \n",
    "        spent_time = np.random.uniform(spent_time_min, spent_time_max)\n",
    "        node.set('spent_time', '{:.2f}'.format(spent_time))\n",
    "        \n",
    "        tw_low = np.random.uniform(tw_low_low, tw_low_high)\n",
    "        tw_upp = tw_low + np.random.uniform(tw_min_width, tw_max_width)\n",
    "        node.set('time_window_low', '{:.2f}'.format(tw_low))\n",
    "        node.set('time_window_upp', '{:.2f}'.format(tw_upp))\n",
    "\n",
    "    # CS nodes\n",
    "    for i in charging_stations:\n",
    "        attr = {'id': str(i), 'type': str(2)}\n",
    "        node = TSubElement(nodes, 'node', attrib=attr)\n",
    "        \n",
    "        technology = np.random.randint(1, 4) # choose among 1, 2 and 3\n",
    "        node.set('technology', str(technology))\n",
    "        \n",
    "        capacity = np.random.randint(1, max_capacity_charge_stations+1)\n",
    "        node.set('capacity', str(capacity))\n",
    "    \n",
    "    # add coordinates (random)\n",
    "    for node in nodes:\n",
    "        cx = np.random.uniform(cx_low, cx_high)\n",
    "        cy = np.random.uniform(cy_low, cy_high)\n",
    "        node.set('cx', '{:.2f}'.format(cx))\n",
    "        node.set('cy', '{:.2f}'.format(cy))\n",
    "        \n",
    "    # edges\n",
    "    for i in nodes:\n",
    "        nodeFrom = TSubElement(edges, 'node_from', attrib={'id': i.get('id')})\n",
    "        for j in nodes:\n",
    "            nodeTo = TSubElement(nodeFrom, 'node_to', attrib={'id': j.get('id')})\n",
    "            \n",
    "            if i == j:\n",
    "                travelTime = 0.\n",
    "                energyConsumption = 0.\n",
    "            else:\n",
    "                travelTime = np.random.uniform(travel_time_min, travel_time_max)\n",
    "                energyConsumption = np.random.uniform(energy_consumption_min, energy_consumption_max)\n",
    "                \n",
    "            nodeTo.set('travel_time', '{:.2f}'.format(travelTime))\n",
    "            nodeTo.set('energy_consumption', '{:.2f}'.format(energyConsumption))\n",
    "            \n",
    "    # technologies\n",
    "    _tech1 = TSubElement(technologies, 'technology', attrib={'type': str(1)})\n",
    "    _tech2 = TSubElement(technologies, 'technology', attrib={'type': str(2)})\n",
    "    _tech3 = TSubElement(technologies, 'technology', attrib={'type': str(3)})\n",
    "    \n",
    "    tech1 = {'0.0': '0.0', '20.0': '75.0', '50.0': '80.0', '120.0': '100.0'}\n",
    "    tech2 = {'0.0': '0.0', '15.0': '75.0', '40.0': '80.0', '80.0': '100.0'}\n",
    "    tech3 = {'0.0': '0.0', '10.0': '75.0', '25.0': '80.0', '40.0': '100.0'}\n",
    "    \n",
    "    _tech_list = [_tech1, _tech2, _tech3]\n",
    "    tech_list = [tech1, tech2, tech3]\n",
    "    \n",
    "    for _tech, tech in zip(_tech_list, tech_list):\n",
    "        for chargingTime, battLevel in tech.items():\n",
    "            breakPoint = TSubElement(_tech, 'breakpoint')\n",
    "            breakPoint.set('charging_time', chargingTime)\n",
    "            breakPoint.set('battery_level', battLevel)\n",
    "    "
   ]
  },
  {
   "cell_type": "markdown",
   "metadata": {},
   "source": [
    "### Fleet"
   ]
  },
  {
   "cell_type": "code",
   "execution_count": 5,
   "metadata": {},
   "outputs": [],
   "source": [
    "def createFleet(root, fleet):\n",
    "    _fleet = TSubElement(root, 'fleet')\n",
    "    for ev_id, attrib in fleet.items():\n",
    "        attrib['id'] = str(ev_id)\n",
    "        _ev = TSubElement(_fleet, 'electric_vehicle', attrib=attrib)\n",
    "    return\n",
    "\n",
    "def fleet_assign_customers(root, info):\n",
    "    _fleet = root.find('fleet')\n",
    "    for id_ev, customers in info.items():\n",
    "        for _ev in _fleet:\n",
    "            if id_ev == _ev.get('id'):\n",
    "                _assgn_customers = TSubElement(_ev, 'assigned_customers')\n",
    "                for customer in customers:\n",
    "                    _customer = TSubElement(_assgn_customers, 'node', attrib={'id':str(customer)})\n",
    "                break\n",
    "                \n",
    "\n",
    "def fleet_update(root, update_info):\n",
    "    _fleet = root.find('fleet')\n",
    "    for ev_id, info in update_info.items():\n",
    "        _ev = _fleet[ev_id-1]\n",
    "        _previous_sequence = TSubElement(_ev, 'previous_sequence')\n",
    "        sk_list = info['previous_sequence'][0]\n",
    "        lk_list = info['previous_sequence'][1]\n",
    "        for sk, lk in zip(sk_list, lk_list):\n",
    "            attrib = {'sk':str(sk), 'lk':str(lk)}\n",
    "            _event = TSubElement(_previous_sequence, 'event', attrib=attrib)\n",
    "        \n",
    "        _critical_point = TSubElement(_ev, 'critical_point', info['critical_point'])\n",
    "            \n",
    "    \n"
   ]
  },
  {
   "cell_type": "code",
   "execution_count": 6,
   "metadata": {},
   "outputs": [],
   "source": [
    "def createTree(numDepots, numCustomers, numChargeStations, attribsEV):\n",
    "    dataElement = ET.Element('instance')\n",
    "    \n",
    "    createInfo(dataElement)\n",
    "    createNetwork(dataElement, numDepots, numCustomers, numChargeStations)\n",
    "    fleetElement = createFleet(dataElement, attribsEV)\n",
    "    \n",
    "    return ET.ElementTree(dataElement)"
   ]
  },
  {
   "cell_type": "markdown",
   "metadata": {},
   "source": [
    "### Folder and file path"
   ]
  },
  {
   "cell_type": "code",
   "execution_count": 7,
   "metadata": {
    "pycharm": {
     "is_executing": false
    }
   },
   "outputs": [
    {
     "name": "stdout",
     "output_type": "stream",
     "text": [
      "Assignation XML path: ../data/GA_implementation_xml/10C_2CS_1D_2EV/10C_2CS_1D_2EV.xml\n",
      "Assigned XML path   : ../data/GA_implementation_xml/10C_2CS_1D_2EV/10C_2CS_1D_2EV_already_assigned.xml\n",
      "Real-time XML path  : ../data/GA_implementation_xml/10C_2CS_1D_2EV/10C_2CS_1D_2EV_realtime.xml\n"
     ]
    }
   ],
   "source": [
    "#instanceName = 'd'+str(numDepot)+'c'+str(numCustomer)+'cs'+str(numCS)+'_ev'+str(numEV)\n",
    "instanceName = '10C_2CS_1D_2EV'\n",
    "folderPath = '../data/GA_implementation_xml/'+instanceName\n",
    "filePath = folderPath+'/'+instanceName+'.xml'\n",
    "filePath_realtime = folderPath+'/'+instanceName+'_realtime.xml'\n",
    "filePath_already_assigned = folderPath+'/'+instanceName+'_already_assigned.xml'\n",
    "\n",
    "try:\n",
    "    os.mkdir(folderPath)\n",
    "except FileExistsError:\n",
    "    pass\n",
    "print('Assignation XML path:', filePath)\n",
    "print('Assigned XML path   :', filePath_already_assigned)\n",
    "print('Real-time XML path  :', filePath_realtime)\n"
   ]
  },
  {
   "cell_type": "markdown",
   "metadata": {},
   "source": [
    "### Create a new instance or open an existing one\n",
    "Choose if creating a new one by setting `new_instance` to `True`. In contrary, set it to `False` to open an existing one"
   ]
  },
  {
   "cell_type": "code",
   "execution_count": 8,
   "metadata": {
    "pycharm": {
     "is_executing": false
    }
   },
   "outputs": [
    {
     "name": "stdout",
     "output_type": "stream",
     "text": [
      "Saving to: ../data/GA_implementation_xml/10C_2CS_1D_2EV\n",
      "Car 0 must visit 5 customer/s\n",
      "Car 1 must visit 5 customer/s\n",
      "Car 2 must visit 5 customer/s\n",
      "Car 3 must visit 5 customer/s\n",
      "\n",
      "\n",
      "Car 0 must visit customers_per_vehicle with ID: [14, 15, 3, 6, 13]\n",
      "Car 1 must visit customers_per_vehicle with ID: [18, 11, 10, 19, 1]\n",
      "Car 2 must visit customers_per_vehicle with ID: [8, 2, 7, 16, 9]\n",
      "Car 3 must visit customers_per_vehicle with ID: [5, 4, 12, 17, 20]\n",
      "Saving assignation to: ../data/GA_implementation_xml/10C_2CS_1D_2EV/10C_2CS_1D_2EV_already_assigned.xml\n",
      "Saving realtime to: ../data/GA_implementation_xml/10C_2CS_1D_2EV/10C_2CS_1D_2EV_realtime.xml\n"
     ]
    }
   ],
   "source": [
    "new_instance = False\n",
    "print_pretty = True\n",
    "\n",
    "# Parameter of new instance\n",
    "numDepot = 1\n",
    "numCustomer = 20\n",
    "numCS = 4\n",
    "numEV = 4\n",
    "\n",
    "if new_instance:\n",
    "    # Nodes\n",
    "    depots = range(numDepot)\n",
    "    customers = range(numDepot, numDepot+numCustomer)\n",
    "    charging_stations = range(numDepot+numCustomer, numDepot+numCustomer+numCS)\n",
    "\n",
    "    # Fleet\n",
    "    attrib = {'max_payload': '2.5', \n",
    "              'max_tour_duration': '250.0', \n",
    "              'battery_capacity': '220.0', \n",
    "              'alpha_down': '35.0', 'alpha_up':'85.0'}\n",
    "\n",
    "    evs ={x:attrib for x in range(numEV)}\n",
    "\n",
    "    # Create tree\n",
    "    dataTree = createTree(depots, customers, charging_stations, evs)\n",
    "\n",
    "    # Save tree\n",
    "    print('Saving to:', folderPath)\n",
    "    dataTree.write(filePath)\n",
    "    \n",
    "    # A random customer assignation    \n",
    "    customer_assignation = {}\n",
    "\n",
    "    ids_customer = copy.deepcopy(list(customers))\n",
    "    customers_per_car = [int(len(ids_customer) / numEV)] * numEV\n",
    "\n",
    "    if len(ids_customer) % numEV != 0:\n",
    "        customers_per_car[-1] = int(len(ids_customer) / numEV) + 1\n",
    "\n",
    "    for i, j in enumerate(customers_per_car):\n",
    "        print('Car', i, 'must visit', j, 'customer/s')\n",
    "    print('\\n')\n",
    "\n",
    "    for id_car, num_customers in enumerate(customers_per_car):\n",
    "        ids_customer_to_visit = []\n",
    "        for j in range(0, num_customers):\n",
    "            index = random.randint(0, len(ids_customer) - 1)\n",
    "            ids_customer_to_visit.append(ids_customer.pop(index))\n",
    "        print('Car', id_car, 'must visit customers_per_vehicle with ID:', ids_customer_to_visit)\n",
    "        customer_assignation[str(id_car)] = ids_customer_to_visit\n",
    "\n",
    "    dataTree_assigned = dataTree\n",
    "    fleet_assign_customers(dataTree_assigned, customer_assignation)\n",
    "    dataTree_realtime = dataTree_assigned\n",
    "\n",
    "    print('Saving assignation to:', filePath_already_assigned)\n",
    "    dataTree_assigned.write(filePath_already_assigned)\n",
    "    \n",
    "    print('Saving realtime to:', filePath_realtime)\n",
    "    dataTree_realtime.write(filePath_realtime)\n",
    "\n",
    "    if print_pretty:\n",
    "        xml_pretty = xml.dom.minidom.parse(filePath_realtime).toprettyxml()\n",
    "        with open(filePath_realtime, 'w') as file:\n",
    "            file.write(xml_pretty)\n",
    "        with open(filePath_already_assigned, 'w') as file:\n",
    "            file.write(xml_pretty)\n",
    "            \n",
    "else:\n",
    "    dataTree = ET.parse(filePath)\n",
    "    dataTree_assigned = ET.parse(filePath_already_assigned)\n",
    "    dataTree_realtime = ET.parse(filePath_realtime)"
   ]
  },
  {
   "cell_type": "markdown",
   "metadata": {},
   "source": [
    "## Modify real-time file\n",
    "Observation is made by getting position of vehicles. A vehicle can be travelling from a node to another node or can be in a stop. \n",
    "\n",
    "If the vehicle is in a stop, observation must report this as case 0 and include: the portion of time (known as $\\eta$) it has been at the node according to the time the vehicle reached and the time it expects to leave, and the node the vehicle is at.\n",
    "\n",
    "If the vehicle is travelling, observation must report this as case 1 and include: the portion of the edge that has been trevelled (known as $\\eta$), the node where the vehicle departs and the node where the vehicle reaches.\n",
    "\n",
    "Critical points are calculated as follows:\n",
    "1. Observe the network\n",
    "2. For each vehicle to route, find the time it is expected to reach the node next to the observation\n",
    "3. If the time expected to reach the next node is higher than the time it takes to run GA, assign it as critical point; else, iterate next nodes until the previous condition is satisfied.\n",
    "4. Save all critical points according to EV ids\n",
    "\n",
    "If a critical point is at most consider_until nodes to reach the end of operation, it means that the EV is about to end the operation. Thus, it is not worth recalculate a new route for that EV. The critical point shoul return with k=-1, which means that this EV must not be considered for routing."
   ]
  },
  {
   "cell_type": "code",
   "execution_count": 8,
   "metadata": {},
   "outputs": [],
   "source": [
    "# This function calculates and displays each eta from given iterated fleet\n",
    "def observe(fleet, total_time):\n",
    "    #print(f'Total time: {total_time}')\n",
    "    observation = {}\n",
    "    for ev_id, ev in fleet.vehicles.items():\n",
    "        reaching_times = ev.state_reaching[0, :] - ev.state_reaching[0, 0]\n",
    "        leaving_times = ev.state_leaving[0, :] - ev.state_reaching[0, 0]\n",
    "        for k, (reach_time, leave_time) in enumerate(zip(reaching_times, leaving_times)):\n",
    "            node = ev.route[0][k]\n",
    "            p = ev.state_reaching[1, k]\n",
    "            q = ev.route[1][k]\n",
    "            tspent = fleet.network.spent_time(node, p, q)\n",
    "            if reach_time <= total_time <= leave_time:\n",
    "                # case in node\n",
    "                case = 0\n",
    "                eta = (total_time - reach_time)/(leave_time - reach_time)\n",
    "                #print(f'CASE NODE | node: {node}  eta: {eta}  expected leaving time: {tspent*(1-eta)}')\n",
    "                values = (case, eta, node)\n",
    "                break\n",
    "            elif total_time < reach_time:\n",
    "                # case in edge\n",
    "                case = 1\n",
    "                eta  = (total_time - leaving_times[k-1])/(reach_time - leaving_times[k-1])\n",
    "                #print(f'CASE EDGE - Vehicle {ev_id} leaves node {ev.route[0][k-1]} at {leaving_times[k-1]} and reaches node {ev.route[0][k]} at {reach_time} (eta: {eta} )')\n",
    "                values = (case, eta, ev.route[0][k-1], ev.route[0][k])\n",
    "                break\n",
    "        observation[ev_id] = values\n",
    "    return observation\n",
    "                \n",
    "def critical_points(fleet, observation, safe_time, consider_until=3):\n",
    "    network = fleet.network\n",
    "    cp = {}\n",
    "    for id_ev, values in observation.items():\n",
    "        ev = fleet.vehicles[id_ev]\n",
    "        node_seq, chrg_seq = ev.route\n",
    "        reaching_times = ev.state_reaching[0, :]\n",
    "        leaving_times = ev.state_leaving[0, :]\n",
    "        #print(f'  STATE REACHING\\n{ev.state_reaching}')\n",
    "        #print(f'  STATE LEAVING\\n{ev.state_leaving}')\n",
    "        if values[0] == 0:\n",
    "            # case in node\n",
    "            print('Case NODE')\n",
    "            eta, node = values[1], values[2]\n",
    "            k_init = node_seq.index(node)\n",
    "            p, q = ev.state_reaching[1, k_init], chrg_seq[k_init]\n",
    "            tspent = network.spent_time(node, p, q)\n",
    "            \n",
    "            reach_seq = reaching_times[k_init:] - reaching_times[k_init]\n",
    "            leav_seq = leaving_times[k_init:] - reaching_times[k_init]\n",
    "            \n",
    "            offset = tspent*eta\n",
    "            reach_seq[0] = offset\n",
    "            \n",
    "            reach_seq -= offset\n",
    "            leav_seq -= offset\n",
    "            \n",
    "            #print('reach seq', reach_seq)\n",
    "            #print('leave seq', leav_seq)\n",
    "            #print('eta', eta)\n",
    "            #print('node', node)\n",
    "            #print('spent time', tspent)\n",
    "            #print('p', p, '  q', q )\n",
    "            \n",
    "        else:\n",
    "            # case in edge\n",
    "            #print('Case EDGE')\n",
    "            eta, node_from, node_to = values[1], values[2], values[3]\n",
    "            k_init = node_seq.index(node_to)\n",
    "            reach_seq = reaching_times[k_init:] - reaching_times[k_init]\n",
    "            leav_seq = leaving_times[k_init:] - reaching_times[k_init]\n",
    "            \n",
    "            offset = fleet.network.t(node_from, node_to,  leaving_times[k_init-1])*(1-eta)\n",
    "            \n",
    "            reach_seq += offset\n",
    "            leav_seq += offset\n",
    "            \n",
    "           # print('reach seq', reach_seq)\n",
    "            #print('leave seq', leav_seq)\n",
    "            #print('node from', node_from, ' node to', node_to)\n",
    "            #print('eta', eta)\n",
    "            #print('offset', offset)\n",
    "        #print()\n",
    "        if k_init == len(node_seq) - 1:\n",
    "            print('case last node')\n",
    "            cp[id_ev] = (-1, 0, 0, 0)\n",
    "        else:\n",
    "            for k, reach_time in enumerate(reach_seq):\n",
    "                k_crit = k_init + k\n",
    "                remaining_customers_ahead_cp = sum([1 for node in node_seq if fleet.network.isCustomer(node)])\n",
    "                if remaining_customers_ahead_cp <= consider_until:\n",
    "                    cp[id_ev] = (-1, 0, 0, 0)\n",
    "                    break\n",
    "                elif reach_time > safe_time:\n",
    "                    cp[id_ev] = (k_crit, ev.state_leaving[0, k_crit], ev.state_leaving[1, k_crit], ev.state_leaving[2, k_crit])\n",
    "                    break\n",
    "    return cp"
   ]
  },
  {
   "cell_type": "markdown",
   "metadata": {},
   "source": [
    "### Show previous values"
   ]
  },
  {
   "cell_type": "code",
   "execution_count": 9,
   "metadata": {},
   "outputs": [],
   "source": [
    "dataTree_realtime = ET.parse(filePath_realtime)"
   ]
  },
  {
   "cell_type": "code",
   "execution_count": 10,
   "metadata": {},
   "outputs": [
    {
     "name": "stdout",
     "output_type": "stream",
     "text": [
      "  Observation\n",
      " {0: (1, 0.15120967741935545, 0, 9), 1: (1, 0.07949125596184418, 0, 6)}\n",
      "\n",
      "  Old critical points\n",
      " {0: (1, 617.4888309982737, 73.7, 1.75), 1: (1, 753.5300605292763, 75.03, 1.22)}\n"
     ]
    }
   ],
   "source": [
    "observation_time = .5   # in minutes\n",
    "ga_time = 1.\n",
    "\n",
    "# instantiate and show previous values\n",
    "fleet = from_xml(filePath_realtime)\n",
    "\n",
    "# Get previous routes\n",
    "routes = {}\n",
    "_fleet = dataTree_realtime.find('fleet')\n",
    "for _vehicle in _fleet:\n",
    "    ev_id = int(_vehicle.get('id'))\n",
    "    _cp = _vehicle.find('critical_point')\n",
    "    k, x1, x2, x3 = int(_cp.get('k')), float(_cp.get('x1')), float(_cp.get('x2')), float(_cp.get('x3'))\n",
    "    if k != -1:\n",
    "        prev_route = (tuple(int(x.get('Sk')) for x in _vehicle.find('previous_route')[k:]), \n",
    "                     tuple(float(x.get('Lk')) for x in _vehicle.find('previous_route')[k:]))\n",
    "\n",
    "        routes[ev_id] = (prev_route, x1, x2, x3)\n",
    "\n",
    "# Update vehicles\n",
    "fleet.update_from_xml(filePath_realtime, do_network=True)\n",
    "fleet.set_routes_of_vehicles(routes)\n",
    "fleet.create_optimization_vector()\n",
    "\n",
    "# Show observation with previous values\n",
    "observation = observe(fleet, observation_time+ga_time)\n",
    "print(f'  Observation\\n {observation}\\n')\n",
    "\n",
    "# Show critical points with previous values\n",
    "cp = critical_points(fleet, observation, observation_time+ga_time, 3)\n",
    "print(f'  Old critical points\\n {cp}')"
   ]
  },
  {
   "cell_type": "markdown",
   "metadata": {},
   "source": [
    "### Perturbate network"
   ]
  },
  {
   "cell_type": "code",
   "execution_count": 34,
   "metadata": {},
   "outputs": [],
   "source": [
    "max_tt_pert = 3\n",
    "max_ec_pert = 2\n",
    "\n",
    "_network = dataTree_realtime.find('network')\n",
    "_nodes = _network.find('nodes')\n",
    "_edges = _network.find('edges')\n",
    "\n",
    "# Modify travel times and energy consumption\n",
    "for _node_from in _edges:\n",
    "    for _node_to in _node_from:\n",
    "        tt = float(_node_to.get('travel_time'))\n",
    "        ec = float(_node_to.get('energy_consumption'))\n",
    "        \n",
    "        tt_dev = min(.8*tt, max_tt_pert)\n",
    "        tt += random.uniform(-tt_dev, tt_dev)\n",
    "        \n",
    "        ec_dev = min(.8*ec, max_ec_pert)\n",
    "        ec += random.uniform(-ec_dev, ec_dev)\n",
    "\n",
    "        _node_to.set('travel_time', str(tt))\n",
    "        _node_to.set('energy_consumption', str(ec))\n",
    "        \n",
    "# Save\n",
    "dataTree_realtime.write(filePath_realtime)\n",
    "if print_pretty:\n",
    "    xml_pretty = xml.dom.minidom.parse(filePath_realtime).toprettyxml()\n",
    "    with open(filePath_realtime, 'w') as file:\n",
    "        file.write(xml_pretty)"
   ]
  },
  {
   "cell_type": "markdown",
   "metadata": {},
   "source": [
    "### Show new critical points"
   ]
  },
  {
   "cell_type": "code",
   "execution_count": 35,
   "metadata": {},
   "outputs": [
    {
     "name": "stdout",
     "output_type": "stream",
     "text": [
      "  Observation\n",
      " {0: (1, 0.09073121890592566, 1, 3), 1: (1, 0.08307517304846906, 2, 5)}\n",
      "\n",
      "  New critical points\n",
      " {0: (-1, 0, 0, 0), 1: (-1, 0, 0, 0)}\n"
     ]
    }
   ],
   "source": [
    "# Update vehicles\n",
    "fleet.update_from_xml(filePath_realtime, do_network=True)\n",
    "fleet.set_routes_of_vehicles(routes)\n",
    "fleet.create_optimization_vector()\n",
    "\n",
    "# Show observation with previous values\n",
    "observation = observe(fleet, observation_time+ga_time)\n",
    "print(f'  Observation\\n {observation}\\n')\n",
    "\n",
    "# Show critical points with previous values\n",
    "cp = critical_points(fleet, observation, observation_time+ga_time)\n",
    "print(f'  New critical points\\n {cp}')"
   ]
  },
  {
   "cell_type": "markdown",
   "metadata": {},
   "source": [
    "### Update critical points in tree and save"
   ]
  },
  {
   "cell_type": "code",
   "execution_count": 36,
   "metadata": {},
   "outputs": [],
   "source": [
    "# update\n",
    "for _vehicle in _fleet:\n",
    "    id_ev = int(_vehicle.get('id'))\n",
    "    if id_ev in fleet.vehicles_to_route:\n",
    "        _cp = _vehicle.find('critical_point')\n",
    "        _cp.set('k', str(cp[id_ev][0]))\n",
    "        _cp.set('x1', str(cp[id_ev][1]))\n",
    "        _cp.set('x2', str(cp[id_ev][2]))\n",
    "        _cp.set('x3', str(cp[id_ev][3]))\n",
    "\n",
    "# Save\n",
    "dataTree_realtime.write(filePath_realtime)\n",
    "if print_pretty:\n",
    "    xml_pretty = xml.dom.minidom.parse(filePath_realtime).toprettyxml()\n",
    "    with open(filePath_realtime, 'w') as file:\n",
    "        file.write(xml_pretty)"
   ]
  },
  {
   "cell_type": "code",
   "execution_count": null,
   "metadata": {},
   "outputs": [],
   "source": []
  },
  {
   "cell_type": "code",
   "execution_count": null,
   "metadata": {},
   "outputs": [],
   "source": []
  },
  {
   "cell_type": "code",
   "execution_count": null,
   "metadata": {},
   "outputs": [],
   "source": []
  }
 ],
 "metadata": {
  "kernelspec": {
   "display_name": "Python 3",
   "language": "python",
   "name": "python3"
  },
  "language_info": {
   "codemirror_mode": {
    "name": "ipython",
    "version": 3
   },
   "file_extension": ".py",
   "mimetype": "text/x-python",
   "name": "python",
   "nbconvert_exporter": "python",
   "pygments_lexer": "ipython3",
   "version": "3.7.7"
  }
 },
 "nbformat": 4,
 "nbformat_minor": 4
}
