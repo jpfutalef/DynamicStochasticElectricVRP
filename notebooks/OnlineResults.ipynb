{
 "cells": [
  {
   "cell_type": "code",
   "execution_count": 1,
   "metadata": {},
   "outputs": [],
   "source": [
    "import pandas as pd\n",
    "import numpy as np\n",
    "import os\n",
    "from os.path import isfile, join\n",
    "import xml.etree.ElementTree as ET\n",
    "import copy\n",
    "import matplotlib.pyplot as plt\n",
    "from matplotlib import rcParams\n",
    "\n",
    "os.chdir('../')\n",
    "\n",
    "from res.dispatcher import Dispatcher\n",
    "\n",
    "rcParams[\"errorbar.capsize\"] = 8.\n",
    "#rcParams['font.family'] = 'Times New Roman'\n",
    "rcParams['font.size'] = '14'\n",
    "rcParams['pdf.fonttype'] = 42\n",
    "rcParams['ps.fonttype'] = 42"
   ]
  },
  {
   "cell_type": "markdown",
   "metadata": {},
   "source": [
    "## Online folder locations"
   ]
  },
  {
   "cell_type": "code",
   "execution_count": 2,
   "metadata": {},
   "outputs": [],
   "source": [
    "# Specify locations\n",
    "offline_folder = 'data/online/instance21/offline_withoutTimeWindows/'\n",
    "online_folder = 'data/online/instance21/online_withoutTimeWindows/'"
   ]
  },
  {
   "cell_type": "markdown",
   "metadata": {},
   "source": [
    "## Costs"
   ]
  },
  {
   "cell_type": "code",
   "execution_count": 51,
   "metadata": {},
   "outputs": [],
   "source": [
    "# Function to get costs' dataframes\n",
    "def get_costs_dataframes(folder, weights=None):\n",
    "    folders = [os.path.join(folder, i) for i in os.listdir(folder) if os.path.isdir(os.path.join(folder, i))]\n",
    "    columns = ['consumed_energy', 'recharging_cost', 'recharging_time', 'travelled_time', 'total']\n",
    "    df = pd.DataFrame(columns=columns)\n",
    "    for folder in folders:\n",
    "        history_path = folder + '/history.xml'\n",
    "        root = ET.parse(history_path)\n",
    "        _fleet: ET.Element = root.find('fleet')\n",
    "        row_dict = {key: [float(attr)] for key, attr in _fleet.attrib.items()}\n",
    "        costs = (row_dict['travelled_time'][0], row_dict['consumed_energy'][0]/24., row_dict['recharging_time'][0], row_dict['recharging_cost'][0])\n",
    "        if weights is None:\n",
    "            total_cost = sum(costs)\n",
    "        else:\n",
    "            total_cost = np.dot(np.asarray(costs), np.asarray(weights))  \n",
    "        row_dict['total'] = total_cost\n",
    "        row = pd.DataFrame(row_dict)\n",
    "        df = df.append(row, ignore_index=True)\n",
    "    \n",
    "    return df.dropna()\n",
    "\n",
    "\n",
    "weights = (0.1 / 2.218, 1. / 0.4364, 1. / 100, 1. / 500)"
   ]
  },
  {
   "cell_type": "code",
   "execution_count": 63,
   "metadata": {},
   "outputs": [
    {
     "data": {
      "text/html": [
       "<div>\n",
       "<style scoped>\n",
       "    .dataframe tbody tr th:only-of-type {\n",
       "        vertical-align: middle;\n",
       "    }\n",
       "\n",
       "    .dataframe tbody tr th {\n",
       "        vertical-align: top;\n",
       "    }\n",
       "\n",
       "    .dataframe thead th {\n",
       "        text-align: right;\n",
       "    }\n",
       "</style>\n",
       "<table border=\"1\" class=\"dataframe\">\n",
       "  <thead>\n",
       "    <tr style=\"text-align: right;\">\n",
       "      <th></th>\n",
       "      <th>consumed_energy</th>\n",
       "      <th>recharging_cost</th>\n",
       "      <th>recharging_time</th>\n",
       "      <th>travelled_time</th>\n",
       "      <th>total</th>\n",
       "    </tr>\n",
       "  </thead>\n",
       "  <tbody>\n",
       "    <tr>\n",
       "      <th>count</th>\n",
       "      <td>50.000000</td>\n",
       "      <td>5.000000e+01</td>\n",
       "      <td>50.000000</td>\n",
       "      <td>50.000000</td>\n",
       "      <td>50.000000</td>\n",
       "    </tr>\n",
       "    <tr>\n",
       "      <th>mean</th>\n",
       "      <td>56.349847</td>\n",
       "      <td>1.402551e+05</td>\n",
       "      <td>79.274305</td>\n",
       "      <td>289.113191</td>\n",
       "      <td>299.718060</td>\n",
       "    </tr>\n",
       "    <tr>\n",
       "      <th>std</th>\n",
       "      <td>1.951541</td>\n",
       "      <td>2.939931e-11</td>\n",
       "      <td>3.283526</td>\n",
       "      <td>8.656114</td>\n",
       "      <td>0.418826</td>\n",
       "    </tr>\n",
       "    <tr>\n",
       "      <th>min</th>\n",
       "      <td>50.714917</td>\n",
       "      <td>1.402551e+05</td>\n",
       "      <td>74.252721</td>\n",
       "      <td>274.017076</td>\n",
       "      <td>298.833198</td>\n",
       "    </tr>\n",
       "    <tr>\n",
       "      <th>25%</th>\n",
       "      <td>55.551899</td>\n",
       "      <td>1.402551e+05</td>\n",
       "      <td>77.667056</td>\n",
       "      <td>283.952004</td>\n",
       "      <td>299.464576</td>\n",
       "    </tr>\n",
       "    <tr>\n",
       "      <th>50%</th>\n",
       "      <td>56.810814</td>\n",
       "      <td>1.402551e+05</td>\n",
       "      <td>79.114996</td>\n",
       "      <td>288.269628</td>\n",
       "      <td>299.679149</td>\n",
       "    </tr>\n",
       "    <tr>\n",
       "      <th>75%</th>\n",
       "      <td>57.771591</td>\n",
       "      <td>1.402551e+05</td>\n",
       "      <td>80.303698</td>\n",
       "      <td>293.979369</td>\n",
       "      <td>299.935006</td>\n",
       "    </tr>\n",
       "    <tr>\n",
       "      <th>max</th>\n",
       "      <td>59.155571</td>\n",
       "      <td>1.402551e+05</td>\n",
       "      <td>96.820290</td>\n",
       "      <td>311.804154</td>\n",
       "      <td>300.805131</td>\n",
       "    </tr>\n",
       "  </tbody>\n",
       "</table>\n",
       "</div>"
      ],
      "text/plain": [
       "       consumed_energy  recharging_cost  recharging_time  travelled_time  \\\n",
       "count        50.000000     5.000000e+01        50.000000       50.000000   \n",
       "mean         56.349847     1.402551e+05        79.274305      289.113191   \n",
       "std           1.951541     2.939931e-11         3.283526        8.656114   \n",
       "min          50.714917     1.402551e+05        74.252721      274.017076   \n",
       "25%          55.551899     1.402551e+05        77.667056      283.952004   \n",
       "50%          56.810814     1.402551e+05        79.114996      288.269628   \n",
       "75%          57.771591     1.402551e+05        80.303698      293.979369   \n",
       "max          59.155571     1.402551e+05        96.820290      311.804154   \n",
       "\n",
       "            total  \n",
       "count   50.000000  \n",
       "mean   299.718060  \n",
       "std      0.418826  \n",
       "min    298.833198  \n",
       "25%    299.464576  \n",
       "50%    299.679149  \n",
       "75%    299.935006  \n",
       "max    300.805131  "
      ]
     },
     "execution_count": 63,
     "metadata": {},
     "output_type": "execute_result"
    }
   ],
   "source": [
    "# Get offline costs\n",
    "off_df = get_costs_dataframes(offline_folder, weights)\n",
    "\n",
    "off_statistics = off_df.describe()\n",
    "off_statistics"
   ]
  },
  {
   "cell_type": "code",
   "execution_count": 64,
   "metadata": {},
   "outputs": [
    {
     "data": {
      "text/html": [
       "<div>\n",
       "<style scoped>\n",
       "    .dataframe tbody tr th:only-of-type {\n",
       "        vertical-align: middle;\n",
       "    }\n",
       "\n",
       "    .dataframe tbody tr th {\n",
       "        vertical-align: top;\n",
       "    }\n",
       "\n",
       "    .dataframe thead th {\n",
       "        text-align: right;\n",
       "    }\n",
       "</style>\n",
       "<table border=\"1\" class=\"dataframe\">\n",
       "  <thead>\n",
       "    <tr style=\"text-align: right;\">\n",
       "      <th></th>\n",
       "      <th>consumed_energy</th>\n",
       "      <th>recharging_cost</th>\n",
       "      <th>recharging_time</th>\n",
       "      <th>travelled_time</th>\n",
       "      <th>total</th>\n",
       "    </tr>\n",
       "  </thead>\n",
       "  <tbody>\n",
       "    <tr>\n",
       "      <th>count</th>\n",
       "      <td>42.000000</td>\n",
       "      <td>42.000000</td>\n",
       "      <td>42.000000</td>\n",
       "      <td>42.000000</td>\n",
       "      <td>42.000000</td>\n",
       "    </tr>\n",
       "    <tr>\n",
       "      <th>mean</th>\n",
       "      <td>52.654129</td>\n",
       "      <td>139983.489951</td>\n",
       "      <td>76.805018</td>\n",
       "      <td>283.981895</td>\n",
       "      <td>298.565861</td>\n",
       "    </tr>\n",
       "    <tr>\n",
       "      <th>std</th>\n",
       "      <td>3.255598</td>\n",
       "      <td>23347.135307</td>\n",
       "      <td>12.873743</td>\n",
       "      <td>20.643993</td>\n",
       "      <td>47.520373</td>\n",
       "    </tr>\n",
       "    <tr>\n",
       "      <th>min</th>\n",
       "      <td>46.131770</td>\n",
       "      <td>84538.148734</td>\n",
       "      <td>44.755491</td>\n",
       "      <td>238.203822</td>\n",
       "      <td>185.564476</td>\n",
       "    </tr>\n",
       "    <tr>\n",
       "      <th>25%</th>\n",
       "      <td>50.648289</td>\n",
       "      <td>123395.640779</td>\n",
       "      <td>69.353249</td>\n",
       "      <td>270.854409</td>\n",
       "      <td>264.489244</td>\n",
       "    </tr>\n",
       "    <tr>\n",
       "      <th>50%</th>\n",
       "      <td>52.514320</td>\n",
       "      <td>138966.706651</td>\n",
       "      <td>76.284578</td>\n",
       "      <td>281.531507</td>\n",
       "      <td>296.893569</td>\n",
       "    </tr>\n",
       "    <tr>\n",
       "      <th>75%</th>\n",
       "      <td>54.816222</td>\n",
       "      <td>148476.860030</td>\n",
       "      <td>83.242286</td>\n",
       "      <td>301.371936</td>\n",
       "      <td>316.958372</td>\n",
       "    </tr>\n",
       "    <tr>\n",
       "      <th>max</th>\n",
       "      <td>58.046688</td>\n",
       "      <td>225495.242751</td>\n",
       "      <td>119.379834</td>\n",
       "      <td>320.206790</td>\n",
       "      <td>471.979877</td>\n",
       "    </tr>\n",
       "  </tbody>\n",
       "</table>\n",
       "</div>"
      ],
      "text/plain": [
       "       consumed_energy  recharging_cost  recharging_time  travelled_time  \\\n",
       "count        42.000000        42.000000        42.000000       42.000000   \n",
       "mean         52.654129    139983.489951        76.805018      283.981895   \n",
       "std           3.255598     23347.135307        12.873743       20.643993   \n",
       "min          46.131770     84538.148734        44.755491      238.203822   \n",
       "25%          50.648289    123395.640779        69.353249      270.854409   \n",
       "50%          52.514320    138966.706651        76.284578      281.531507   \n",
       "75%          54.816222    148476.860030        83.242286      301.371936   \n",
       "max          58.046688    225495.242751       119.379834      320.206790   \n",
       "\n",
       "            total  \n",
       "count   42.000000  \n",
       "mean   298.565861  \n",
       "std     47.520373  \n",
       "min    185.564476  \n",
       "25%    264.489244  \n",
       "50%    296.893569  \n",
       "75%    316.958372  \n",
       "max    471.979877  "
      ]
     },
     "execution_count": 64,
     "metadata": {},
     "output_type": "execute_result"
    }
   ],
   "source": [
    "# Get online costs\n",
    "on_df = get_costs_dataframes(online_folder, weights)\n",
    "\n",
    "on_statistics = on_df.describe()\n",
    "on_statistics"
   ]
  },
  {
   "cell_type": "code",
   "execution_count": 69,
   "metadata": {},
   "outputs": [
    {
     "data": {
      "text/plain": [
       "[Text(0, 0, 'Off-E-VRP only'), Text(0, 0, 'Off-E-VRP + On-E-VRP')]"
      ]
     },
     "execution_count": 69,
     "metadata": {},
     "output_type": "execute_result"
    },
    {
     "data": {
      "image/png": "[encoded data removed]",
      "text/plain": [
       "<Figure size 432x288 with 1 Axes>"
      ]
     },
     "metadata": {
      "needs_background": "light"
     },
     "output_type": "display_data"
    }
   ],
   "source": [
    "def get_mean_std(df, column_name):\n",
    "    mean = df[column_name]['mean']\n",
    "    std = df[column_name]['std']\n",
    "    return mean, std\n",
    "\n",
    "mean_off, std_off = get_mean_std(off_statistics, 'total')\n",
    "mean_on, std_on = get_mean_std(on_statistics, 'total')\n",
    "\n",
    "\n",
    "fig = plt.figure()\n",
    "plt.errorbar([0, 1], [mean_off, mean_on], yerr=[std_off, std_on])\n",
    "\n",
    "plt.ylabel('Total cost')\n",
    "\n",
    "ax = plt.gca()\n",
    "ax.set_xticks([0, 1])\n",
    "ax.set_xticklabels(['Off-E-VRP only', 'Off-E-VRP + On-E-VRP'], rotation=-45)"
   ]
  },
  {
   "cell_type": "code",
   "execution_count": 71,
   "metadata": {},
   "outputs": [
    {
     "name": "stdout",
     "output_type": "stream",
     "text": [
      "299.7180597176468 298.565861121058\n"
     ]
    }
   ],
   "source": [
    "print(mean_off, mean_on)"
   ]
  },
  {
   "cell_type": "code",
   "execution_count": 70,
   "metadata": {},
   "outputs": [
    {
     "data": {
      "image/png": "[encoded data removed]",
      "text/plain": [
       "<Figure size 432x288 with 1 Axes>"
      ]
     },
     "metadata": {
      "needs_background": "light"
     },
     "output_type": "display_data"
    },
    {
     "data": {
      "image/png": "[encoded data removed]",
      "text/plain": [
       "<Figure size 432x288 with 1 Axes>"
      ]
     },
     "metadata": {
      "needs_background": "light"
     },
     "output_type": "display_data"
    },
    {
     "data": {
      "image/png": "[encoded data removed]",
      "text/plain": [
       "<Figure size 432x288 with 1 Axes>"
      ]
     },
     "metadata": {
      "needs_background": "light"
     },
     "output_type": "display_data"
    },
    {
     "data": {
      "image/png": "[encoded data removed]",
      "text/plain": [
       "<Figure size 432x288 with 1 Axes>"
      ]
     },
     "metadata": {
      "needs_background": "light"
     },
     "output_type": "display_data"
    },
    {
     "data": {
      "image/png": "[encoded data removed]",
      "text/plain": [
       "<Figure size 432x288 with 1 Axes>"
      ]
     },
     "metadata": {
      "needs_background": "light"
     },
     "output_type": "display_data"
    }
   ],
   "source": [
    "for column in off_statistics.columns:\n",
    "    mean_off, std_off = get_mean_std(off_statistics, column)\n",
    "    mean_on, std_on = get_mean_std(on_statistics, column)\n",
    "    \n",
    "    fig = plt.figure()\n",
    "    \n",
    "    plt.errorbar([0, 1], [mean_off, mean_on], yerr=[std_off, std_on])\n",
    "    \n",
    "    plt.ylabel(column)\n",
    "\n",
    "    ax = plt.gca()\n",
    "    ax.set_xticks([0, 1])\n",
    "    ax.set_xticklabels(['Off-E-VRP only', 'Off-E-VRP + On-E-VRP'], rotation=-45)"
   ]
  },
  {
   "cell_type": "markdown",
   "metadata": {},
   "source": [
    "## Constraints violations"
   ]
  },
  {
   "cell_type": "code",
   "execution_count": 60,
   "metadata": {},
   "outputs": [],
   "source": [
    "# Function to get costs' dataframes\n",
    "def get_constraints_dataframes(folder):\n",
    "    folders = [os.path.join(folder, i) for i in os.listdir(folder) if os.path.isdir(os.path.join(folder, i))]\n",
    "    columns = ['time_window_down', 'time_window_upp', 'alpha_up', 'alpha_down', 'max_tour_time', 'total']\n",
    "    df = pd.DataFrame(columns=columns)\n",
    "    for folder in folders:\n",
    "        history_path = folder + '/history.xml'\n",
    "        root = ET.parse(history_path)\n",
    "        for _vehicle in root.iter('vehicle'):\n",
    "            _violated_constraints = _vehicle.find('violated_constraints')\n",
    "            for _violated_constraint in _violated_constraints:\n",
    "                row = {key: 0 for key in columns}\n",
    "                row[_violated_constraint.attrib['type']] = 1\n",
    "                row['total'] = 1\n",
    "                df = df.append(row, ignore_index=True)\n",
    "    return df.dropna().sum()"
   ]
  },
  {
   "cell_type": "code",
   "execution_count": 61,
   "metadata": {},
   "outputs": [
    {
     "data": {
      "text/plain": [
       "time_window_down      0.0\n",
       "time_window_upp      54.0\n",
       "alpha_up              2.0\n",
       "alpha_down          111.0\n",
       "max_tour_time         0.0\n",
       "total               167.0\n",
       "dtype: float64"
      ]
     },
     "execution_count": 61,
     "metadata": {},
     "output_type": "execute_result"
    }
   ],
   "source": [
    "get_constraints_dataframes(offline_folder)"
   ]
  },
  {
   "cell_type": "code",
   "execution_count": 62,
   "metadata": {},
   "outputs": [
    {
     "data": {
      "text/plain": [
       "time_window_down     0.0\n",
       "time_window_upp     15.0\n",
       "alpha_up             0.0\n",
       "alpha_down          14.0\n",
       "max_tour_time        0.0\n",
       "total               29.0\n",
       "dtype: float64"
      ]
     },
     "execution_count": 62,
     "metadata": {},
     "output_type": "execute_result"
    }
   ],
   "source": [
    "get_constraints_dataframes(online_folder)"
   ]
  },
  {
   "cell_type": "code",
   "execution_count": null,
   "metadata": {},
   "outputs": [],
   "source": []
  }
 ],
 "metadata": {
  "kernelspec": {
   "display_name": "Python 3",
   "language": "python",
   "name": "python3"
  },
  "language_info": {
   "codemirror_mode": {
    "name": "ipython",
    "version": 3
   },
   "file_extension": ".py",
   "mimetype": "text/x-python",
   "name": "python",
   "nbconvert_exporter": "python",
   "pygments_lexer": "ipython3",
   "version": "3.7.7"
  }
 },
 "nbformat": 4,
 "nbformat_minor": 4
}