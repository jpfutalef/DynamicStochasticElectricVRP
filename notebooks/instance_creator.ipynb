{
 "cells": [
  {
   "cell_type": "markdown",
   "metadata": {},
   "source": [
    "# Instance creator utility (realtime)"
   ]
  },
  {
   "cell_type": "markdown",
   "metadata": {},
   "source": [
    "## Imports"
   ]
  },
  {
   "cell_type": "code",
   "execution_count": 1,
   "metadata": {
    "pycharm": {
     "is_executing": false
    }
   },
   "outputs": [],
   "source": [
    "import numpy as np\n",
    "import matplotlib.pyplot as plt\n",
    "import networkx as nx\n",
    "import os\n",
    "import sys\n",
    "import copy\n",
    "import random\n",
    "\n",
    "import xml.dom.minidom\n",
    "import xml.etree.ElementTree as ET\n",
    "\n",
    "sys.path.append('..')\n",
    "from models.Fleet import Fleet, from_xml"
   ]
  },
  {
   "cell_type": "code",
   "execution_count": 2,
   "metadata": {
    "pycharm": {
     "is_executing": false
    }
   },
   "outputs": [],
   "source": [
    "def TSubElement(parent, tag, attrib={}, text=None, **extra):\n",
    "    element = ET.SubElement(parent, tag, attrib, **extra)\n",
    "    if text:\n",
    "        element.text = text\n",
    "    return element"
   ]
  },
  {
   "cell_type": "markdown",
   "metadata": {},
   "source": [
    "## ET handler methods\n",
    "### Root tree"
   ]
  },
  {
   "cell_type": "code",
   "execution_count": 3,
   "metadata": {},
   "outputs": [],
   "source": [
    "def new_tree(network_params, fleet_params):\n",
    "    _instance = ET.Element('instance')\n",
    "    _network = network_tree(_instance, **network_params)\n",
    "    _fleet = fleet_tree(_instance, fleet)\n",
    "    _info = info_tree(_instance)\n",
    "    \n",
    "    return ET.ElementTree(_instance)"
   ]
  },
  {
   "cell_type": "markdown",
   "metadata": {},
   "source": [
    "### Info"
   ]
  },
  {
   "cell_type": "code",
   "execution_count": 4,
   "metadata": {},
   "outputs": [],
   "source": [
    "def info_tree(root, name='', description=''):\n",
    "    info = TSubElement(root, 'info')\n",
    "    _name = TSubElement(info, 'name', text=name)\n",
    "    _description = TSubElement(info, 'description', text=description)\n",
    "    return info"
   ]
  },
  {
   "cell_type": "markdown",
   "metadata": {},
   "source": [
    "### Network"
   ]
  },
  {
   "cell_type": "code",
   "execution_count": 5,
   "metadata": {
    "pycharm": {
     "is_executing": false
    }
   },
   "outputs": [],
   "source": [
    "def nodes_tree(network, num_depot, num_customer, num_charging_station, \n",
    "               cx_low, cx_high, cy_low, cy_high, \n",
    "               request_min, request_max, spent_time_min, spent_time_max,\n",
    "               tw_low_low, tw_low_high, tw_min_width, tw_max_width, \n",
    "               num_cs_tech, max_cs_capacity):\n",
    "    \n",
    "    # node ET\n",
    "    nodes = TSubElement(network, 'nodes')\n",
    "    \n",
    "    # depot nodes\n",
    "    for i in range(num_depot):\n",
    "        pos_x = 0.0\n",
    "        pos_y = 0.0\n",
    "        attr = {'id': str(i), 'type': str(0), 'pos_x': str(pos_x), 'pos_y': str(pos_y)}\n",
    "        node = TSubElement(nodes, 'node', attrib=attr)\n",
    "\n",
    "    # customer nodes\n",
    "    for i in range(num_depot, num_depot+num_customer):\n",
    "        pos_x = np.random.uniform(cx_low, cx_high)\n",
    "        pos_y = np.random.uniform(cy_low, cy_high)\n",
    "        \n",
    "        attr = {'id': str(i), 'type': str(1), 'pos_x': str(pos_x), 'pos_y': str(pos_y)}\n",
    "        \n",
    "        node = TSubElement(nodes, 'node', attrib=attr)\n",
    "        \n",
    "        request = np.random.uniform(request_min, request_max)\n",
    "        node.set('demand', '{:.2f}'.format(request))\n",
    "        \n",
    "        spent_time = np.random.uniform(spent_time_min, spent_time_max)\n",
    "        node.set('spent_time', '{:.2f}'.format(spent_time))\n",
    "        \n",
    "        tw_low = np.random.uniform(tw_low_low, tw_low_high)\n",
    "        node.set('time_window_low', '{:.2f}'.format(tw_low))\n",
    "        \n",
    "        tw_upp = tw_low + np.random.uniform(tw_min_width, tw_max_width)\n",
    "        node.set('time_window_upp', '{:.2f}'.format(tw_upp))\n",
    "\n",
    "    # CS nodes\n",
    "    q, quadrants = 0, [0, 2, 1, 3]\n",
    "    r_min = (cx_high-cx_low)/2\n",
    "    r_max = (cx_high-cx_low)/5\n",
    "    for i in range(num_depot+num_customer, num_depot+num_customer+num_charging_station):\n",
    "        r, angle = np.random.uniform(r_min, r_max), np.random.uniform(quadrants[q]*np.pi/2, (quadrants[q]+1)*np.pi/2)\n",
    "        pos_x, pos_y = r*np.cos(angle), r*np.sin(angle)\n",
    "        q = q+1 if q < 3 else 0\n",
    "        \n",
    "        attr = {'id': str(i), 'type': str(2), 'pos_x': str(pos_x), 'pos_y': str(pos_y)}\n",
    "        node = TSubElement(nodes, 'node', attrib=attr)\n",
    "        \n",
    "        technology = np.random.randint(1, num_cs_tech+1) # choose among 1 and num_cs_tech\n",
    "        node.set('technology', str(technology))\n",
    "        \n",
    "        #capacity = np.random.randint(1, max_cs_capacity+1) # choose among 1 and max_cs_capacity\n",
    "        capacity = max_cs_capacity\n",
    "        node.set('capacity', str(capacity))\n",
    "    \n",
    "    return nodes\n",
    "        \n",
    "\n",
    "def edges_tree(network, tt_factor, ec_factor, dynamic=False):\n",
    "    edges = TSubElement(network, 'edges')\n",
    "    nodes = network.find('nodes')\n",
    "    \n",
    "    # Iterate edges\n",
    "    for i in nodes:\n",
    "        nodeFrom = TSubElement(edges, 'node_from', attrib={'id': i.get('id')})\n",
    "        x_from, y_from = float(i.get('pos_x')), float(i.get('pos_y'))    \n",
    "        for j in nodes:\n",
    "            nodeTo = TSubElement(nodeFrom, 'node_to', attrib={'id': j.get('id')})\n",
    "            x_to, y_to = float(j.get('pos_x')), float(j.get('pos_y')) \n",
    "            \n",
    "            if i == j:\n",
    "                travelTime = 0.\n",
    "                energyConsumption = 0.\n",
    "                \n",
    "            else:\n",
    "                distance = np.sqrt((x_to-x_from)**2 + (y_to-y_from)**2)\n",
    "                travelTime = tt_factor*distance\n",
    "                energyConsumption = ec_factor*distance\n",
    "                \n",
    "            nodeTo.set('travel_time', '{:.2f}'.format(travelTime))\n",
    "            nodeTo.set('energy_consumption', '{:.2f}'.format(energyConsumption))\n",
    "    \n",
    "    return edges\n",
    "\n",
    "def charging_technologies_tree(network, tech_list):\n",
    "    \"\"\"\n",
    "    Adds technology types to network file.\n",
    "    :param network: the network ET element\n",
    "    :param tech_list: list of dictionaries defining technologies. Each dictionary in tech_list has the structure {time_point0:soc_point0, ..., time_pointN, soc_pointN}\n",
    "    \"\"\"\n",
    "    number_of_tech = len(tech_list)\n",
    "    technologies = TSubElement(network, 'technologies')\n",
    "    _tech_list = [TSubElement(technologies, 'technology', attrib={'type': str(i)}) for i in range(1, number_of_tech+1)]\n",
    "    \n",
    "    for _tech, tech in zip(_tech_list, tech_list):\n",
    "        for chargingTime, battLevel in tech.items():\n",
    "            breakPoint = TSubElement(_tech, 'breakpoint')\n",
    "            breakPoint.set('charging_time', str(chargingTime))\n",
    "            breakPoint.set('battery_level', str(battLevel))\n",
    "            \n",
    "    return technologies\n",
    "\n",
    "\n",
    "    \n",
    "\n",
    "def network_tree(root, num_depot, num_customer, num_charging_station, \n",
    "                  cx_low, cx_high, cy_low, cy_high, \n",
    "                  request_min, request_max, spent_time_min, spent_time_max,\n",
    "                  tw_low_low, tw_low_high, tw_min_width, tw_max_width, \n",
    "                  num_cs_tech, max_cs_capacity, tt_factor, ec_factor, tech_list):\n",
    "    \n",
    "    network = TSubElement(root, 'network')\n",
    "    nodes = nodes_tree(network, num_depot, num_customer, num_charging_station,\n",
    "                       cx_low, cx_high, cy_low, cy_high, \n",
    "                       request_min, request_max, spent_time_min, spent_time_max,\n",
    "                       tw_low_low, tw_low_high, tw_min_width, tw_max_width, \n",
    "                       num_cs_tech, max_cs_capacity)\n",
    "    edges = edges_tree(network, tt_factor, ec_factor)\n",
    "    technologies = charging_technologies_tree(network, tech_list)\n",
    "    "
   ]
  },
  {
   "cell_type": "markdown",
   "metadata": {},
   "source": [
    "### Fleet"
   ]
  },
  {
   "cell_type": "code",
   "execution_count": 7,
   "metadata": {},
   "outputs": [],
   "source": [
    "def fleet_tree(root, fleet):\n",
    "    _fleet = TSubElement(root, 'fleet')\n",
    "    for ev_id, attrib in fleet.items():\n",
    "        attrib['id'] = str(ev_id)\n",
    "        _ev = TSubElement(_fleet, 'electric_vehicle', attrib=attrib)\n",
    "    return\n",
    "\n",
    "def fleet_assign_customers(root, info):\n",
    "    _fleet = root.find('fleet')\n",
    "    for id_ev, customers in info.items():\n",
    "        for _ev in _fleet:\n",
    "            if id_ev == _ev.get('id'):\n",
    "                _assgn_customers = TSubElement(_ev, 'assigned_customers')\n",
    "                for customer in customers:\n",
    "                    _customer = TSubElement(_assgn_customers, 'node', attrib={'id':str(customer)})\n",
    "                break\n",
    "                \n",
    "\n",
    "def fleet_update(root, update_info):\n",
    "    _fleet = root.find('fleet')\n",
    "    for ev_id, info in update_info.items():\n",
    "        _ev = _fleet[ev_id-1]\n",
    "        _previous_sequence = TSubElement(_ev, 'previous_sequence')\n",
    "        sk_list = info['previous_sequence'][0]\n",
    "        lk_list = info['previous_sequence'][1]\n",
    "        for sk, lk in zip(sk_list, lk_list):\n",
    "            attrib = {'sk':str(sk), 'lk':str(lk)}\n",
    "            _event = TSubElement(_previous_sequence, 'event', attrib=attrib)\n",
    "        \n",
    "        _critical_point = TSubElement(_ev, 'critical_point', info['critical_point'])\n",
    "            \n",
    "    \n"
   ]
  },
  {
   "cell_type": "markdown",
   "metadata": {},
   "source": [
    "### Folder and file path"
   ]
  },
  {
   "cell_type": "code",
   "execution_count": 10,
   "metadata": {
    "pycharm": {
     "is_executing": false
    }
   },
   "outputs": [
    {
     "name": "stdout",
     "output_type": "stream",
     "text": [
      "Assignation XML path: ../data/XML_files/10C_2CS_1D_2EV_4CAP_HIGHWEIGHT/10C_2CS_1D_2EV_4CAP_HIGHWEIGHT.xml\n",
      "Assigned XML path   : ../data/XML_files/10C_2CS_1D_2EV_4CAP_HIGHWEIGHT/10C_2CS_1D_2EV_4CAP_HIGHWEIGHT_already_assigned.xml\n",
      "Real-time XML path  : ../data/XML_files/10C_2CS_1D_2EV_4CAP_HIGHWEIGHT/10C_2CS_1D_2EV_4CAP_HIGHWEIGHT_realtime.xml\n"
     ]
    }
   ],
   "source": [
    "num_depot = 1\n",
    "num_customer = 10\n",
    "num_cs = 2\n",
    "num_ev = fleet_size = 2\n",
    "max_capacity = 4\n",
    "\n",
    "instanceName = f'{num_customer}C_{num_cs}CS_{num_depot}D_{num_ev}EV_{max_capacity}CAP_HIGHWEIGHT'\n",
    "#instanceName = '10C_2CS_1D_2EV'\n",
    "#instanceName = 'test'\n",
    "folderPath = '../data/XML_files/'+instanceName\n",
    "filePath = folderPath+'/'+instanceName+'.xml'\n",
    "filePath_realtime = folderPath+'/'+instanceName+'_realtime.xml'\n",
    "filePath_already_assigned = folderPath+'/'+instanceName+'_already_assigned.xml'\n",
    "\n",
    "try:\n",
    "    os.mkdir(folderPath)\n",
    "except FileExistsError:\n",
    "    pass\n",
    "\n",
    "print('Assignation XML path:', filePath)\n",
    "print('Assigned XML path   :', filePath_already_assigned)\n",
    "print('Real-time XML path  :', filePath_realtime)\n"
   ]
  },
  {
   "cell_type": "markdown",
   "metadata": {},
   "source": [
    "### Create a new instance or open an existing one\n",
    "Choose if creating a new one by setting `new_instance` to `True`. In contrary, set it to `False` to open an existing one"
   ]
  },
  {
   "cell_type": "code",
   "execution_count": 11,
   "metadata": {
    "pycharm": {
     "is_executing": false
    }
   },
   "outputs": [
    {
     "name": "stdout",
     "output_type": "stream",
     "text": [
      "Saving to: ../data/XML_files/10C_2CS_1D_2EV_4CAP_HIGHWEIGHT\n",
      "Car 0 must visit 5 customer/s\n",
      "Car 1 must visit 5 customer/s\n",
      "\n",
      "\n",
      "Car 0 must visit customers_per_vehicle with ID: [3, 8, 1, 7, 9]\n",
      "Car 1 must visit customers_per_vehicle with ID: [5, 10, 6, 4, 2]\n",
      "Saving assignation to: ../data/XML_files/10C_2CS_1D_2EV_4CAP_HIGHWEIGHT/10C_2CS_1D_2EV_4CAP_HIGHWEIGHT_already_assigned.xml\n",
      "Saving realtime to: ../data/XML_files/10C_2CS_1D_2EV_4CAP_HIGHWEIGHT/10C_2CS_1D_2EV_4CAP_HIGHWEIGHT_realtime.xml\n"
     ]
    }
   ],
   "source": [
    "new_instance = True\n",
    "print_pretty = True\n",
    "\n",
    "# Parameter of new instance\n",
    "tech1 = {0.0: 0.0, 40.0: 75.0, 60.0: 85.0, 150.0: 100.0}\n",
    "tech2 = {0.0: 0.0, 15.0: 75.0, 40.0: 80.0, 80.0: 100.0}\n",
    "tech3 = {0.0: 0.0, 10.0: 75.0, 25.0: 80.0, 40.0: 100.0}\n",
    "tech_list = [tech1]\n",
    "\n",
    "net_params = {'num_depot': num_depot, \n",
    "              'num_customer': num_customer, \n",
    "              'num_charging_station': num_cs,\n",
    "              'cx_low': -10000., \n",
    "              'cx_high': 10000, \n",
    "              'cy_low': -10000, \n",
    "              'cy_high': 10000,\n",
    "              'request_min': 0.02, \n",
    "              'request_max': 0.08, \n",
    "              'spent_time_min': 2.0, \n",
    "              'spent_time_max': 9.0,\n",
    "              'tw_low_low': 60*9., \n",
    "              'tw_low_high': 60*12.0,\n",
    "              'tw_min_width': 60*1.8, \n",
    "              'tw_max_width': 60*3.5, \n",
    "              'num_cs_tech': len(tech_list), \n",
    "              'max_cs_capacity': max_capacity, \n",
    "              'tt_factor': 60./(35.*1000.), \n",
    "              'ec_factor': 0.00028, \n",
    "              'tech_list': tech_list}\n",
    "\n",
    "ev_attribs = {'max_tour_duration': '300.0', \n",
    "              'max_payload': '1.9',\n",
    "              'weight': '1.5',\n",
    "              'battery_capacity': '220.0', \n",
    "              'alpha_down': '38.0', \n",
    "              'alpha_up':'82.0'}\n",
    "\n",
    "fleet = {x: ev_attribs for x in range(num_ev)}\n",
    "\n",
    "if new_instance:\n",
    "    dataTree = new_tree(net_params, fleet)\n",
    "\n",
    "    # Save tree\n",
    "    print('Saving to:', folderPath)\n",
    "    dataTree.write(filePath)\n",
    "    \n",
    "    # A random customer assignation    \n",
    "    customer_assignation = {}\n",
    "\n",
    "    ids_customer = list(range(1, net_params['num_customer']+1))\n",
    "    customers_per_car = [int(len(ids_customer) / fleet_size)] * fleet_size\n",
    "\n",
    "    if len(ids_customer) % fleet_size != 0:\n",
    "        customers_per_car[-1] = int(len(ids_customer) / fleet_size) + 1\n",
    "\n",
    "    for i, j in enumerate(customers_per_car):\n",
    "        print('Car', i, 'must visit', j, 'customer/s')\n",
    "    print('\\n')\n",
    "\n",
    "    for id_car, num_customers in enumerate(customers_per_car):\n",
    "        ids_customer_to_visit = []\n",
    "        for j in range(0, num_customers):\n",
    "            index = random.randint(0, len(ids_customer) - 1)\n",
    "            ids_customer_to_visit.append(ids_customer.pop(index))\n",
    "        print('Car', id_car, 'must visit customers_per_vehicle with ID:', ids_customer_to_visit)\n",
    "        customer_assignation[str(id_car)] = ids_customer_to_visit\n",
    "\n",
    "    dataTree_assigned = dataTree\n",
    "    fleet_assign_customers(dataTree_assigned, customer_assignation)\n",
    "    dataTree_realtime = dataTree_assigned\n",
    "\n",
    "    print('Saving assignation to:', filePath_already_assigned)\n",
    "    dataTree_assigned.write(filePath_already_assigned)\n",
    "    \n",
    "    print('Saving realtime to:', filePath_realtime)\n",
    "    dataTree_realtime.write(filePath_realtime)\n",
    "\n",
    "    if print_pretty:\n",
    "        xml_pretty = xml.dom.minidom.parse(filePath_realtime).toprettyxml()\n",
    "        with open(filePath_realtime, 'w') as file:\n",
    "            file.write(xml_pretty)\n",
    "        with open(filePath_already_assigned, 'w') as file:\n",
    "            file.write(xml_pretty)\n",
    "            \n",
    "else:\n",
    "    dataTree = ET.parse(filePath)\n",
    "    dataTree_assigned = ET.parse(filePath_already_assigned)\n",
    "    dataTree_realtime = ET.parse(filePath_realtime)"
   ]
  },
  {
   "cell_type": "markdown",
   "metadata": {},
   "source": [
    "## Modify CS capacity"
   ]
  },
  {
   "cell_type": "code",
   "execution_count": 8,
   "metadata": {},
   "outputs": [
    {
     "name": "stdout",
     "output_type": "stream",
     "text": [
      "Copying data from: ../data/GA_implementation_xml/30C_2CS_1D_6EV_4CAP_V2/30C_2CS_1D_6EV_4CAP_V2_already_assigned.xml\n",
      "Assignation XML path: ../data/GA_implementation_xml/30C_2CS_1D_6EV_4CAP_V2/30C_2CS_1D_6EV_4CAP_V2.xml\n",
      "Assigned XML path   : ../data/GA_implementation_xml/30C_2CS_1D_6EV_4CAP_V2/30C_2CS_1D_6EV_4CAP_V2_already_assigned.xml\n",
      "Real-time XML path  : ../data/GA_implementation_xml/30C_2CS_1D_6EV_4CAP_V2/30C_2CS_1D_6EV_4CAP_V2_realtime.xml\n"
     ]
    }
   ],
   "source": [
    "#from_file = filePath_already_assigned\n",
    "from_file = '../data/GA_implementation_xml/30C_2CS_1D_6EV_4CAP_V2/30C_2CS_1D_6EV_4CAP_V2_already_assigned.xml'\n",
    "max_capacity = 4\n",
    "\n",
    "#instanceName = f'{num_customer}C_{num_cs}CS_{num_depot}D_{num_ev}EV_{max_capacity}CAP'\n",
    "instanceName = '30C_2CS_1D_6EV_4CAP_V2'\n",
    "#instanceName = 'test'\n",
    "folderPath = '../data/GA_implementation_xml/'+instanceName\n",
    "filePath = folderPath+'/'+instanceName+'.xml'\n",
    "filePath_realtime = folderPath+'/'+instanceName+'_realtime.xml'\n",
    "filePath_already_assigned = folderPath+'/'+instanceName+'_already_assigned.xml'\n",
    "\n",
    "try:\n",
    "    os.mkdir(folderPath)\n",
    "except FileExistsError:\n",
    "    pass\n",
    "\n",
    "print('Copying data from:', from_file)\n",
    "\n",
    "print('Assignation XML path:', filePath)\n",
    "print('Assigned XML path   :', filePath_already_assigned)\n",
    "print('Real-time XML path  :', filePath_realtime)\n"
   ]
  },
  {
   "cell_type": "code",
   "execution_count": 10,
   "metadata": {},
   "outputs": [
    {
     "name": "stdout",
     "output_type": "stream",
     "text": [
      "Saving assigned to: ../data/GA_implementation_xml/30C_2CS_1D_6EV_4CAP_V2/30C_2CS_1D_6EV_4CAP_V2_already_assigned.xml\n"
     ]
    }
   ],
   "source": [
    "dataTree = ET.parse(from_file)\n",
    "\n",
    "_nodes = dataTree.find('network').find('nodes')\n",
    "for _node in _nodes:\n",
    "    if _node.get('capacity'):\n",
    "        _node.set('capacity', str(max_capacity))\n",
    "\n",
    "print('Saving assigned to:', filePath_already_assigned)\n",
    "dataTree.write(filePath_already_assigned)\n",
    "\n",
    "print_pretty = True\n",
    "if print_pretty:\n",
    "    xml_pretty = xml.dom.minidom.parse(filePath_already_assigned).toprettyxml()\n",
    "    with open(filePath_already_assigned, 'w') as file:\n",
    "        file.write(xml_pretty)"
   ]
  },
  {
   "cell_type": "markdown",
   "metadata": {},
   "source": [
    "# Using Fleet and Network instances"
   ]
  },
  {
   "cell_type": "code",
   "execution_count": 3,
   "metadata": {},
   "outputs": [],
   "source": [
    "import sys\n",
    "sys.path.append('..')\n",
    "\n",
    "from models.Network import Network\n",
    "from models.Fleet import Fleet, from_xml"
   ]
  },
  {
   "cell_type": "code",
   "execution_count": null,
   "metadata": {},
   "outputs": [],
   "source": [
    "print_pretty = True\n",
    "\n",
    "# Parameter of new instance\n",
    "tech1 = {0.0: 0.0, 40.0: 75.0, 60.0: 85.0, 150.0: 100.0}\n",
    "tech2 = {0.0: 0.0, 15.0: 75.0, 40.0: 80.0, 80.0: 100.0}\n",
    "tech3 = {0.0: 0.0, 10.0: 75.0, 25.0: 80.0, 40.0: 100.0}\n",
    "tech_list = [tech1]\n",
    "\n",
    "net_params = {'num_depot': num_depot, \n",
    "              'num_customer': num_customer, \n",
    "              'num_charging_station': num_cs,\n",
    "              'cx_low': -10000., \n",
    "              'cx_high': 10000, \n",
    "              'cy_low': -10000, \n",
    "              'cy_high': 10000,\n",
    "              'request_min': 0.001, \n",
    "              'request_max': 0.015, \n",
    "              'spent_time_min': 2.0, \n",
    "              'spent_time_max': 9.0,\n",
    "              'tw_low_low': 60*9., \n",
    "              'tw_low_high': 60*12.0,\n",
    "              'tw_min_width': 60*1.8, \n",
    "              'tw_max_width': 60*3.5, \n",
    "              'num_cs_tech': len(tech_list), \n",
    "              'max_cs_capacity': max_capacity, \n",
    "              'tt_factor': 60./(35.*1000.), \n",
    "              'ec_factor': 0.00028, \n",
    "              'tech_list': tech_list}"
   ]
  },
  {
   "cell_type": "markdown",
   "metadata": {},
   "source": [
    "### Network"
   ]
  },
  {
   "cell_type": "code",
   "execution_count": null,
   "metadata": {},
   "outputs": [],
   "source": [
    "network = Network()"
   ]
  },
  {
   "cell_type": "code",
   "execution_count": null,
   "metadata": {},
   "outputs": [],
   "source": [
    "network.write_xml()"
   ]
  },
  {
   "cell_type": "markdown",
   "metadata": {},
   "source": [
    "### Fleet"
   ]
  },
  {
   "cell_type": "code",
   "execution_count": 4,
   "metadata": {},
   "outputs": [],
   "source": [
    "ev_attribs = {'max_tour_duration': 5*60.0, \n",
    "              'max_payload': 1.5,\n",
    "              'weight': 1.5,\n",
    "              'battery_capacity': 220.0, \n",
    "              'alpha_down': 38.0, \n",
    "              'alpha_up': 82.0}\n",
    "\n",
    "\n",
    "\n",
    "fleet = Fleet()"
   ]
  },
  {
   "cell_type": "code",
   "execution_count": null,
   "metadata": {},
   "outputs": [],
   "source": [
    "fleet.write_xml()"
   ]
  }
 ],
 "metadata": {
  "kernelspec": {
   "display_name": "Python 3",
   "language": "python",
   "name": "python3"
  },
  "language_info": {
   "codemirror_mode": {
    "name": "ipython",
    "version": 3
   },
   "file_extension": ".py",
   "mimetype": "text/x-python",
   "name": "python",
   "nbconvert_exporter": "python",
   "pygments_lexer": "ipython3",
   "version": "3.7.7"
  }
 },
 "nbformat": 4,
 "nbformat_minor": 4
}
