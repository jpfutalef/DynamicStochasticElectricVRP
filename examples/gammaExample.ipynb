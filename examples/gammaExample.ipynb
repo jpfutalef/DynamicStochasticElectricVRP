{
  "cells": [
    {
      "cell_type": "code",
      "execution_count": 1,
      "metadata": {
        "pycharm": {
          "is_executing": false,
          "name": "#%%\n"
        }
      },
      "outputs": [],
      "source": "# Required to include project\u0027s folder\nimport sys\nsys.path.append(\u0027../\u0027)\n\nimport numpy as np\n\nfrom res.gamma import gamma\n"
    },
    {
      "cell_type": "code",
      "execution_count": 2,
      "metadata": {
        "pycharm": {
          "is_executing": false
        }
      },
      "outputs": [
        {
          "name": "stdout",
          "text": [
            "[0, 1, 2, 3, 4, 5, 6, 7, 8, 9, 10, 11, 12, 13, 14, 15, 16, 17, 18, 19]\n"
          ],
          "output_type": "stream"
        }
      ],
      "source": "# 2 vehicles\nnVehicles \u003d 2\nnCustomers \u003d 5\n\nnNodes \u003d nCustomers + 1 # nodos a recorrer y deposito\n\nS1 \u003d [0,4,2,5,0]\nS2 \u003d [0,1,3,5,0]\n\nX1 \u003d [[0.0,1.0,2.0,3.0,4.5],[0.0,1.1,2.2,3.8,4.5]]\nX2 \u003d [[1.0,2.0,2.5,3.2,4.2],[1.0,2.1,3.0,3.9,4.2]]\n\nS \u003d [S1,S2]\nX \u003d [X1,X2]\n\n# Tiempo global\nk0 \u003d list(range(0,2*(len(X1[0])+len(X2[0]))))\nprint(k0)"
    },
    {
      "cell_type": "code",
      "execution_count": 3,
      "metadata": {
        "pycharm": {
          "is_executing": false
        }
      },
      "outputs": [
        {
          "name": "stdout",
          "text": [
            "[[[0.0, 0, 1, 0], [0.0, 0, -1, 0], [1.0, 4, 1, 0], [1.1, 4, -1, 0], [2.0, 2, 1, 0], [2.2, 2, -1, 0], [3.0, 5, 1, 0], [3.8, 5, -1, 0], [4.5, 0, 1, 0], [4.5, 0, -1, 0]], [[1.0, 0, 1, 1], [1.0, 0, -1, 1], [2.0, 1, 1, 1], [2.1, 1, -1, 1], [2.5, 3, 1, 1], [3.0, 3, -1, 1], [3.2, 5, 1, 1], [3.9, 5, -1, 1], [4.2, 0, 1, 1], [4.2, 0, -1, 1]]]\n"
          ],
          "output_type": "stream"
        }
      ],
      "source": [
        "# Matriz con eventos en cada nodo para cada vehículo\n",
        "aX \u003d []\n",
        "for i in range(0,nVehicles):\n",
        "    x \u003d []\n",
        "    for j in range(0,len(S[i])):\n",
        "        # agregar ts, nodo, tipo, vehiculo\n",
        "        x.append([X[i][0][j], S[i][j], 1, i])\n",
        "        x.append([X[i][1][j], S[i][j], -1, i])\n",
        "    aX.append(x)\n",
        "    \n",
        "print(aX)"
      ]
    },
    {
      "cell_type": "code",
      "execution_count": 4,
      "metadata": {
        "pycharm": {
          "is_executing": false
        }
      },
      "outputs": [
        {
          "name": "stdout",
          "text": [
            "[[0.0, 0, 1, 0], [0.0, 0, -1, 0], [1.0, 4, 1, 0], [1.0, 0, 1, 1], [1.0, 0, -1, 1], [1.1, 4, -1, 0], [2.0, 2, 1, 0], [2.0, 1, 1, 1], [2.1, 1, -1, 1], [2.2, 2, -1, 0], [2.5, 3, 1, 1], [3.0, 5, 1, 0], [3.0, 3, -1, 1], [3.2, 5, 1, 1], [3.8, 5, -1, 0], [3.9, 5, -1, 1], [4.2, 0, 1, 1], [4.2, 0, -1, 1], [4.5, 0, 1, 0], [4.5, 0, -1, 0]]\n"
          ],
          "output_type": "stream"
        }
      ],
      "source": [
        "# Ordenar\n",
        "oX \u003d []\n",
        "for i in k0:\n",
        "    c \u003d float(\"inf\")\n",
        "    v \u003d 0\n",
        "    for j in range(0,nVehicles):\n",
        "        if not aX[j]:\n",
        "            pass\n",
        "        elif aX[j][0][0] \u003c c:\n",
        "            c \u003d aX[j][0][0]\n",
        "            v \u003d j\n",
        "    popEvent \u003d aX[v].pop(0) # notice that aX will be empty after this. rerun to obtain new results\n",
        "    oX.append(popEvent)\n",
        "\n",
        "print(oX)"
      ]
    },
    {
      "cell_type": "code",
      "execution_count": 5,
      "metadata": {
        "pycharm": {
          "is_executing": false
        }
      },
      "outputs": [
        {
          "name": "stdout",
          "text": [
            "[[-1.]\n [ 0.]\n [ 0.]\n [ 0.]\n [ 0.]\n [ 0.]]\n"
          ],
          "output_type": "stream"
        }
      ],
      "source": [
        "# Prueba de gamma\n",
        "g, typ \u003d gamma(oX, 1, nNodes)\n",
        "print(g)"
      ]
    },
    {
      "cell_type": "code",
      "execution_count": 6,
      "metadata": {
        "pycharm": {
          "is_executing": false
        }
      },
      "outputs": [
        {
          "name": "stdout",
          "text": [
            "theta( 0 )\u003d \n [[1.]\n [0.]\n [0.]\n [0.]\n [0.]\n [0.]] \n\ntheta( 1 )\u003d \n [[0.]\n [0.]\n [0.]\n [0.]\n [0.]\n [0.]] \n\ntheta( 2 )\u003d \n [[0.]\n [0.]\n [0.]\n [0.]\n [1.]\n [0.]] \n\ntheta( 3 )\u003d \n [[1.]\n [0.]\n [0.]\n [0.]\n [1.]\n [0.]] \n\ntheta( 4 )\u003d \n [[0.]\n [0.]\n [0.]\n [0.]\n [1.]\n [0.]] \n\ntheta( 5 )\u003d \n [[0.]\n [0.]\n [0.]\n [0.]\n [0.]\n [0.]] \n\ntheta( 6 )\u003d \n [[0.]\n [0.]\n [1.]\n [0.]\n [0.]\n [0.]] \n\ntheta( 7 )\u003d \n [[0.]\n [1.]\n [1.]\n [0.]\n [0.]\n [0.]] \n\ntheta( 8 )\u003d \n [[0.]\n [0.]\n [1.]\n [0.]\n [0.]\n [0.]] \n\ntheta( 9 )\u003d \n [[0.]\n [0.]\n [0.]\n [0.]\n [0.]\n [0.]] \n\ntheta( 10 )\u003d \n [[0.]\n [0.]\n [0.]\n [1.]\n [0.]\n [0.]] \n\ntheta( 11 )\u003d \n [[0.]\n [0.]\n [0.]\n [1.]\n [0.]\n [1.]] \n\ntheta( 12 )\u003d \n [[0.]\n [0.]\n [0.]\n [0.]\n [0.]\n [1.]] \n\ntheta( 13 )\u003d \n [[0.]\n [0.]\n [0.]\n [0.]\n [0.]\n [2.]] \n\ntheta( 14 )\u003d \n [[0.]\n [0.]\n [0.]\n [0.]\n [0.]\n [1.]] \n\ntheta( 15 )\u003d \n [[0.]\n [0.]\n [0.]\n [0.]\n [0.]\n [0.]] \n\ntheta( 16 )\u003d \n [[1.]\n [0.]\n [0.]\n [0.]\n [0.]\n [0.]] \n\ntheta( 17 )\u003d \n [[0.]\n [0.]\n [0.]\n [0.]\n [0.]\n [0.]] \n\ntheta( 18 )\u003d \n [[1.]\n [0.]\n [0.]\n [0.]\n [0.]\n [0.]] \n\ntheta( 19 )\u003d \n [[0.]\n [0.]\n [0.]\n [0.]\n [0.]\n [0.]] \n\n"
          ],
          "output_type": "stream"
        }
      ],
      "source": "# Vehiculos en cada nodo\ntheta \u003d np.zeros((nNodes,1))\n#theta[0] \u003d nVehicles\nfor k in k0:\n    g, typ \u003d gamma(oX, k, nNodes)\n    theta \u003d theta + g\n    print(\"theta(\",k,\")\u003d \\n\",theta,\"\\n\")\n    #time.sleep(1)\n"
    }
  ],
  "metadata": {
    "kernelspec": {
      "display_name": "Python 3",
      "language": "python",
      "name": "python3"
    },
    "language_info": {
      "codemirror_mode": {
        "name": "ipython",
        "version": 3
      },
      "file_extension": ".py",
      "mimetype": "text/x-python",
      "name": "python",
      "nbconvert_exporter": "python",
      "pygments_lexer": "ipython3",
      "version": "3.7.3"
    },
    "stem_cell": {
      "cell_type": "raw",
      "source": "",
      "metadata": {
        "pycharm": {
          "metadata": false
        }
      }
    }
  },
  "nbformat": 4,
  "nbformat_minor": 2
}