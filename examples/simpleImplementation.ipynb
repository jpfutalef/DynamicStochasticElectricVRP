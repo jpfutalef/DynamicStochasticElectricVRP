{
  "cells": [
    {
      "cell_type": "code",
      "execution_count": 1,
      "metadata": {
        "pycharm": {
          "is_executing": false
        }
      },
      "outputs": [],
      "source": "import sys\nsys.path.append(\u0027../\u0027)\n\nimport numpy as np\nimport copy\nimport time\nimport pandas as pd\nfrom scipy.optimize import differential_evolution\n\nfrom res.gamma import gamma\n"
    },
    {
      "cell_type": "code",
      "execution_count": 18,
      "metadata": {
        "pycharm": {}
      },
      "outputs": [
        {
          "name": "stdout",
          "output_type": "stream",
          "text": [
            "          0   1   2   3   4\n",
            "TT(MIN)                    \n",
            "0         0  12   8  22  18\n",
            "1        12   0  28   5  15\n",
            "2         8  28   0  11  28\n",
            "3        22   5  11   0  25\n",
            "4        18  15  28  25   0 \n",
            "\n",
            "Travel time from 1 to 2:  28\n"
          ]
        }
      ],
      "source": [
        "# Time matrix\n",
        "timeMatrx \u003d pd.read_csv(\"timeMatrixSymmetric.csv\").set_index(\"TT(MIN)\")\n",
        "print(timeMatrx,\"\\n\")\n",
        "\n",
        "# Indexing example\n",
        "t12 \u003d timeMatrx.iat[1,2]\n",
        "print(\"Travel time from 1 to 2: \", t12)"
      ]
    },
    {
      "cell_type": "code",
      "execution_count": 19,
      "metadata": {
        "pycharm": {}
      },
      "outputs": [
        {
          "name": "stdout",
          "output_type": "stream",
          "text": [
            "Depot node:  0 \n",
            "\n",
            "Customers nodes:  [1 3 4] \n",
            "\n",
            "Charge satations nodes:  [2] \n",
            "\n"
          ]
        }
      ],
      "source": [
        "# Info matrix and nodes\n",
        "infoMatrix \u003d pd.read_csv(\"info.csv\")\n",
        "\n",
        "depotNode      \u003d infoMatrix[\"DEPOT\"].dropna().astype(\"int32\").values[0]\n",
        "customersNodes \u003d infoMatrix[\"CUSTOMER\"].dropna().astype(\"int32\").values\n",
        "csNodes        \u003d infoMatrix[\"CS\"].dropna().astype(\"int32\").values\n",
        "\n",
        "print(\"Depot node: \", depotNodes, \"\\n\")\n",
        "print(\"Customers nodes: \", customersNodes, \"\\n\")\n",
        "print(\"Charge satations nodes: \", csNodes, \"\\n\")"
      ]
    },
    {
      "cell_type": "code",
      "execution_count": 20,
      "metadata": {
        "pycharm": {}
      },
      "outputs": [],
      "source": [
        "# Variables setup\n",
        "nVehicles  \u003d 2\n",
        "\n",
        "nCustomers \u003d len(customersNodes)\n",
        "nCS        \u003d len(csNodes)"
      ]
    },
    {
      "cell_type": "code",
      "execution_count": 21,
      "metadata": {
        "pycharm": {}
      },
      "outputs": [
        {
          "name": "stdout",
          "output_type": "stream",
          "text": [
            "65.0\n"
          ]
        }
      ],
      "source": [
        "# Cost function\n",
        "def costFunctionTime(path, tMatrix):\n",
        "    n \u003d len(path)\n",
        "    arcCosts \u003d np.empty((n-1,1))\n",
        "    for i in range(0,n-1):\n",
        "        arcCosts[i] \u003d tMatrix.iat[path[i], path[i+1]]\n",
        "    return(np.sum(arcCosts))\n",
        "\n",
        "# Testing\n",
        "path \u003d [0,3,4,0]   # 22+25+18 \u003d 65\n",
        "print(costFunctionTime(path, timeMatrx))"
      ]
    },
    {
      "cell_type": "code",
      "execution_count": 22,
      "metadata": {
        "pycharm": {}
      },
      "outputs": [],
      "source": [
        "# Optimization\n",
        "res \u003d differential_evolution"
      ]
    },
    {
      "cell_type": "code",
      "execution_count": null,
      "metadata": {
        "pycharm": {}
      },
      "outputs": [],
      "source": []
    }
  ],
  "metadata": {
    "kernelspec": {
      "display_name": "Python 3",
      "language": "python",
      "name": "python3"
    },
    "language_info": {
      "codemirror_mode": {
        "name": "ipython",
        "version": 3
      },
      "file_extension": ".py",
      "mimetype": "text/x-python",
      "name": "python",
      "nbconvert_exporter": "python",
      "pygments_lexer": "ipython3",
      "version": "3.7.3"
    }
  },
  "nbformat": 4,
  "nbformat_minor": 2
}