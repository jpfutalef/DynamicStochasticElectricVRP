{
 "cells": [
  {
   "cell_type": "markdown",
   "source": [
    "# Simple E-VRP implementation\n"
   ],
   "metadata": {
    "collapsed": false,
    "pycharm": {
     "name": "#%% md\n"
    }
   }
  },
  {
   "cell_type": "code",
   "execution_count": 1,
   "metadata": {
    "pycharm": {
     "is_executing": false
    }
   },
   "outputs": [],
   "source": [
    "import sys\n",
    "\n",
    "import numpy as np\n",
    "import pandas as pd\n",
    "import random\n",
    "\n",
    "import res.EV_utilities\n"
   ]
  },
  {
   "cell_type": "markdown",
   "source": [
    "To create random matrices, set boolean variables to True according to the cost kind needed.\n"
   ],
   "metadata": {
    "collapsed": false
   }
  },
  {
   "cell_type": "code",
   "execution_count": 5,
   "outputs": [
    {
     "traceback": [
      "\u001b[1;31m---------------------------------------------------------------------------\u001b[0m",
      "\u001b[1;31mKeyboardInterrupt\u001b[0m                         Traceback (most recent call last)",
      "\u001b[1;32m<ipython-input-5-6d90a7c4f47a>\u001b[0m in \u001b[0;36m<module>\u001b[1;34m\u001b[0m\n\u001b[0;32m     31\u001b[0m                    'POS_Y':np.random.uniform(0.0, 150.0)}\n\u001b[0;32m     32\u001b[0m \u001b[1;33m\u001b[0m\u001b[0m\n\u001b[1;32m---> 33\u001b[1;33m     \u001b[0mres\u001b[0m\u001b[1;33m.\u001b[0m\u001b[0mEV_utilities\u001b[0m\u001b[1;33m.\u001b[0m\u001b[0msaveInfoMatrix\u001b[0m\u001b[1;33m(\u001b[0m\u001b[0minfo\u001b[0m\u001b[1;33m,\u001b[0m \u001b[0mname\u001b[0m\u001b[1;33m=\u001b[0m\u001b[1;34m'timeMatrixRandom'\u001b[0m\u001b[1;33m)\u001b[0m\u001b[1;33m\u001b[0m\u001b[1;33m\u001b[0m\u001b[0m\n\u001b[0m\u001b[0;32m     34\u001b[0m \u001b[1;33m\u001b[0m\u001b[0m\n",
      "\u001b[1;32mD:\\Coding\\EVFleetRouting\\res\\EV_utilities.py\u001b[0m in \u001b[0;36msaveInfoMatrix\u001b[1;34m(nodeInfo, name)\u001b[0m\n\u001b[0;32m    207\u001b[0m     \u001b[0mdf\u001b[0m \u001b[1;33m=\u001b[0m \u001b[0mpd\u001b[0m\u001b[1;33m.\u001b[0m\u001b[0mDataFrame\u001b[0m\u001b[1;33m(\u001b[0m\u001b[1;33m)\u001b[0m\u001b[1;33m\u001b[0m\u001b[1;33m\u001b[0m\u001b[0m\n\u001b[0;32m    208\u001b[0m     \u001b[1;32mfor\u001b[0m \u001b[0mnodeID\u001b[0m \u001b[1;32min\u001b[0m \u001b[0mnodeInfo\u001b[0m\u001b[1;33m.\u001b[0m\u001b[0mkeys\u001b[0m\u001b[1;33m(\u001b[0m\u001b[1;33m)\u001b[0m\u001b[1;33m:\u001b[0m\u001b[1;33m\u001b[0m\u001b[1;33m\u001b[0m\u001b[0m\n\u001b[1;32m--> 209\u001b[1;33m         \u001b[0mrow\u001b[0m \u001b[1;33m=\u001b[0m \u001b[0mpd\u001b[0m\u001b[1;33m.\u001b[0m\u001b[0mDataFrame\u001b[0m\u001b[1;33m(\u001b[0m\u001b[0mnodeInfo\u001b[0m\u001b[1;33m[\u001b[0m\u001b[0mnodeID\u001b[0m\u001b[1;33m]\u001b[0m\u001b[1;33m)\u001b[0m\u001b[1;33m\u001b[0m\u001b[1;33m\u001b[0m\u001b[0m\n\u001b[0m\u001b[0;32m    210\u001b[0m         \u001b[0mrow\u001b[0m\u001b[1;33m.\u001b[0m\u001b[0mset_index\u001b[0m\u001b[1;33m(\u001b[0m\u001b[0mnodeID\u001b[0m\u001b[1;33m)\u001b[0m\u001b[1;33m\u001b[0m\u001b[1;33m\u001b[0m\u001b[0m\n\u001b[0;32m    211\u001b[0m         \u001b[0mrow\u001b[0m\u001b[1;33m.\u001b[0m\u001b[0mindex\u001b[0m\u001b[1;33m.\u001b[0m\u001b[0mname\u001b[0m \u001b[1;33m=\u001b[0m \u001b[1;34m'ID'\u001b[0m\u001b[1;33m\u001b[0m\u001b[1;33m\u001b[0m\u001b[0m\n",
      "\u001b[1;32mD:\\Coding\\EVFleetRouting\\res\\EV_utilities.py\u001b[0m in \u001b[0;36msaveInfoMatrix\u001b[1;34m(nodeInfo, name)\u001b[0m\n\u001b[0;32m    207\u001b[0m     \u001b[0mdf\u001b[0m \u001b[1;33m=\u001b[0m \u001b[0mpd\u001b[0m\u001b[1;33m.\u001b[0m\u001b[0mDataFrame\u001b[0m\u001b[1;33m(\u001b[0m\u001b[1;33m)\u001b[0m\u001b[1;33m\u001b[0m\u001b[1;33m\u001b[0m\u001b[0m\n\u001b[0;32m    208\u001b[0m     \u001b[1;32mfor\u001b[0m \u001b[0mnodeID\u001b[0m \u001b[1;32min\u001b[0m \u001b[0mnodeInfo\u001b[0m\u001b[1;33m.\u001b[0m\u001b[0mkeys\u001b[0m\u001b[1;33m(\u001b[0m\u001b[1;33m)\u001b[0m\u001b[1;33m:\u001b[0m\u001b[1;33m\u001b[0m\u001b[1;33m\u001b[0m\u001b[0m\n\u001b[1;32m--> 209\u001b[1;33m         \u001b[0mrow\u001b[0m \u001b[1;33m=\u001b[0m \u001b[0mpd\u001b[0m\u001b[1;33m.\u001b[0m\u001b[0mDataFrame\u001b[0m\u001b[1;33m(\u001b[0m\u001b[0mnodeInfo\u001b[0m\u001b[1;33m[\u001b[0m\u001b[0mnodeID\u001b[0m\u001b[1;33m]\u001b[0m\u001b[1;33m)\u001b[0m\u001b[1;33m\u001b[0m\u001b[1;33m\u001b[0m\u001b[0m\n\u001b[0m\u001b[0;32m    210\u001b[0m         \u001b[0mrow\u001b[0m\u001b[1;33m.\u001b[0m\u001b[0mset_index\u001b[0m\u001b[1;33m(\u001b[0m\u001b[0mnodeID\u001b[0m\u001b[1;33m)\u001b[0m\u001b[1;33m\u001b[0m\u001b[1;33m\u001b[0m\u001b[0m\n\u001b[0;32m    211\u001b[0m         \u001b[0mrow\u001b[0m\u001b[1;33m.\u001b[0m\u001b[0mindex\u001b[0m\u001b[1;33m.\u001b[0m\u001b[0mname\u001b[0m \u001b[1;33m=\u001b[0m \u001b[1;34m'ID'\u001b[0m\u001b[1;33m\u001b[0m\u001b[1;33m\u001b[0m\u001b[0m\n",
      "\u001b[1;32m_pydevd_bundle\\pydevd_cython_win32_37_64.pyx\u001b[0m in \u001b[0;36m_pydevd_bundle.pydevd_cython_win32_37_64.SafeCallWrapper.__call__\u001b[1;34m()\u001b[0m\n",
      "\u001b[1;32m_pydevd_bundle\\pydevd_cython_win32_37_64.pyx\u001b[0m in \u001b[0;36m_pydevd_bundle.pydevd_cython_win32_37_64.PyDBFrame.trace_dispatch\u001b[1;34m()\u001b[0m\n",
      "\u001b[1;32m_pydevd_bundle\\pydevd_cython_win32_37_64.pyx\u001b[0m in \u001b[0;36m_pydevd_bundle.pydevd_cython_win32_37_64.PyDBFrame.trace_dispatch\u001b[1;34m()\u001b[0m\n",
      "\u001b[1;32m_pydevd_bundle\\pydevd_cython_win32_37_64.pyx\u001b[0m in \u001b[0;36m_pydevd_bundle.pydevd_cython_win32_37_64.PyDBFrame.trace_dispatch\u001b[1;34m()\u001b[0m\n",
      "\u001b[1;32m_pydevd_bundle\\pydevd_cython_win32_37_64.pyx\u001b[0m in \u001b[0;36m_pydevd_bundle.pydevd_cython_win32_37_64.PyDBFrame.do_wait_suspend\u001b[1;34m()\u001b[0m\n",
      "\u001b[1;32mD:\\Applications\\Jetbrains\\apps\\PyCharm-P\\ch-0\\191.7479.30\\helpers\\pydev\\pydevd.py\u001b[0m in \u001b[0;36mdo_wait_suspend\u001b[1;34m(self, thread, frame, event, arg, suspend_type, send_suspend_message)\u001b[0m\n\u001b[0;32m    887\u001b[0m \u001b[1;33m\u001b[0m\u001b[0m\n\u001b[0;32m    888\u001b[0m             \u001b[0mself\u001b[0m\u001b[1;33m.\u001b[0m\u001b[0mprocess_internal_commands\u001b[0m\u001b[1;33m(\u001b[0m\u001b[1;33m)\u001b[0m\u001b[1;33m\u001b[0m\u001b[1;33m\u001b[0m\u001b[0m\n\u001b[1;32m--> 889\u001b[1;33m             \u001b[0mtime\u001b[0m\u001b[1;33m.\u001b[0m\u001b[0msleep\u001b[0m\u001b[1;33m(\u001b[0m\u001b[1;36m0.01\u001b[0m\u001b[1;33m)\u001b[0m\u001b[1;33m\u001b[0m\u001b[1;33m\u001b[0m\u001b[0m\n\u001b[0m\u001b[0;32m    890\u001b[0m \u001b[1;33m\u001b[0m\u001b[0m\n\u001b[0;32m    891\u001b[0m         \u001b[0mself\u001b[0m\u001b[1;33m.\u001b[0m\u001b[0mcancel_async_evaluation\u001b[0m\u001b[1;33m(\u001b[0m\u001b[0mget_thread_id\u001b[0m\u001b[1;33m(\u001b[0m\u001b[0mthread\u001b[0m\u001b[1;33m)\u001b[0m\u001b[1;33m,\u001b[0m \u001b[0mstr\u001b[0m\u001b[1;33m(\u001b[0m\u001b[0mid\u001b[0m\u001b[1;33m(\u001b[0m\u001b[0mframe\u001b[0m\u001b[1;33m)\u001b[0m\u001b[1;33m)\u001b[0m\u001b[1;33m)\u001b[0m\u001b[1;33m\u001b[0m\u001b[1;33m\u001b[0m\u001b[0m\n",
      "\u001b[1;31mKeyboardInterrupt\u001b[0m: "
     ],
     "ename": "KeyboardInterrupt",
     "evalue": "",
     "output_type": "error"
    }
   ],
   "source": [
    "createTimeMatrix = False\n",
    "createInfoFile = True\n",
    "\n",
    "if createTimeMatrix:\n",
    "    networkSize = 5\n",
    "    lowVal = 4.0\n",
    "    upVal = 15.0\n",
    "    res.EV_utilities.randomMatrixWithZeroDiagonal(networkSize, lower=lowVal, upper=upVal,\n",
    "                                                  name='timeMatrixRandom',\n",
    "                                                  indexName='TT(MIN)')\n",
    "\n",
    "if createInfoFile:\n",
    "    networkSize = 5\n",
    "    \n",
    "    depotNodes = [0]\n",
    "    idNodes = range(1, networkSize+1)\n",
    "    customerNodes = random.sample(idNodes, random.randint(1, networkSize-1))\n",
    "    csNodes = [x for x in idNodes if x not in customerNodes]\n",
    "    \n",
    "    info = {}\n",
    "    \n",
    "    for i in depotNodes:\n",
    "        info[i] = {'TYPE':'DEPOT', 'POS_X':0.0, 'POS_Y':0.0}\n",
    "        \n",
    "    for i in customerNodes:\n",
    "        info[i] = {'TYPE':'CUSTOMER', 'POS_X':np.random.uniform(0.0, 150.0),\n",
    "                   'POS_Y':np.random.uniform(0.0, 150.0)}\n",
    "        \n",
    "    for i in csNodes:\n",
    "        info[i] = {'TYPE':'CS', 'POS_X':np.random.uniform(0.0, 150.0),\n",
    "                   'POS_Y':np.random.uniform(0.0, 150.0)}\n",
    "    \n",
    "    res.EV_utilities.saveInfoMatrix(info, name='timeMatrixRandom')\n",
    "    "
   ],
   "metadata": {
    "collapsed": false,
    "pycharm": {
     "name": "#%%\n",
     "is_executing": false
    }
   }
  },
  {
   "cell_type": "markdown",
   "metadata": {
    "pycharm": {
     "is_executing": false,
     "name": "#%% md\n"
    }
   },
   "source": [
    "Import time matrix and show a travel time example\n"
   ]
  },
  {
   "cell_type": "code",
   "execution_count": 8,
   "outputs": [
    {
     "name": "stdout",
     "text": [
      "                 0          1          2          3          4\nTT(MIN)                                                       \n0         0.000000   6.237646   6.212931  14.187236   5.285591\n1         7.025874   0.000000   9.529564   9.058473   7.116360\n2        11.259912   5.351140   0.000000   7.663575  11.187708\n3        13.338912   8.748450  12.305607   0.000000  14.135934\n4        14.903217  14.715104  12.068958  10.352232   0.000000 \n\nTravel time from 1 to 2:  9.529563551687088\n"
     ],
     "output_type": "stream"
    }
   ],
   "source": [
    "fileName = 'timeMatrixRandom'+str(5)\n",
    "\n",
    "path = '../data/simpleImplementation/'+str(fileName)+'.csv'\n",
    "timeMatrix = pd.read_csv(path).set_index(\"TT(MIN)\")\n",
    "print(timeMatrix,\"\\n\")\n",
    "\n",
    "# Indexing example\n",
    "t = timeMatrix.iat[1,2]\n",
    "print(\"Travel time from 1 to 2: \", t)\n",
    "\n"
   ],
   "metadata": {
    "collapsed": false,
    "pycharm": {
     "name": "#%%\n",
     "is_executing": false
    }
   }
  },
  {
   "cell_type": "markdown",
   "metadata": {
    "pycharm": {
     "is_executing": false,
     "name": "#%% md\n"
    }
   },
   "source": [
    "Import nodes information to differentiate among them\n"
   ]
  },
  {
   "cell_type": "code",
   "execution_count": 14,
   "outputs": [
    {
     "name": "stdout",
     "text": [
      "Depot node:  [0] \n\nCustomers nodes:  [1 3 4] \n\nCharge stations nodes:  [2] \n\n"
     ],
     "output_type": "stream"
    }
   ],
   "source": [
    "infoMatrix = pd.read_csv(\"../data/simpleImplementation/infoSymmetric.csv\")\n",
    "\n",
    "depotNodes     = infoMatrix[\"DEPOT\"].dropna().astype(\"int32\").values\n",
    "customersNodes = infoMatrix[\"CUSTOMER\"].dropna().astype(\"int32\").values\n",
    "csNodes        = infoMatrix[\"CS\"].dropna().astype(\"int32\").values\n",
    "\n",
    "print(\"Depot node: \", depotNodes, \"\\n\")\n",
    "print(\"Customers nodes: \", customersNodes, \"\\n\")\n",
    "print(\"Charge stations nodes: \", csNodes, \"\\n\")\n"
   ],
   "metadata": {
    "collapsed": false,
    "pycharm": {
     "name": "#%%\n",
     "is_executing": false
    }
   }
  },
  {
   "cell_type": "markdown",
   "metadata": {
    "pycharm": {
     "is_executing": false,
     "name": "#%% md\n"
    }
   },
   "source": [
    "Variables setup\n"
   ]
  },
  {
   "cell_type": "code",
   "execution_count": 15,
   "outputs": [],
   "source": [
    "nVehicles  = 1\n",
    "\n",
    "nCustomers      = len(customersNodes)\n",
    "nChargeStations = len(csNodes)\n"
   ],
   "metadata": {
    "collapsed": false,
    "pycharm": {
     "name": "#%% \n",
     "is_executing": false
    }
   }
  },
  {
   "cell_type": "markdown",
   "metadata": {
    "pycharm": {
     "is_executing": false,
     "name": "#%% md\n"
    }
   },
   "source": [
    "## Cost function\n"
   ]
  },
  {
   "cell_type": "code",
   "execution_count": 16,
   "outputs": [],
   "source": [
    "def costFunctionTime(pathToFollow, tMatrix):\n",
    "    n = len(pathToFollow)\n",
    "    arcCosts = np.empty((n-1,1))\n",
    "    for i in range(0,n-1):\n",
    "        arcCosts[i] = tMatrix.iat[path[i], path[i+1]]\n",
    "    return np.sum(arcCosts)\n"
   ],
   "metadata": {
    "collapsed": false,
    "pycharm": {
     "name": "#%%\n",
     "is_executing": false
    }
   }
  },
  {
   "cell_type": "markdown",
   "source": [
    "Test the cost function with a simple example\n"
   ],
   "metadata": {
    "collapsed": false,
    "pycharm": {
     "name": "#%% md\n"
    }
   }
  },
  {
   "cell_type": "code",
   "execution_count": 17,
   "outputs": [
    {
     "name": "stdout",
     "text": [
      "Path to be followed:  [0, 3, 4, 0]\nCost of path:  65.0\n"
     ],
     "output_type": "stream"
    }
   ],
   "source": [
    "path = [0,3,4,0]   # 22+25+18 = 65\n",
    "print(\"Path to be followed: \", path)\n",
    "print(\"Cost of path: \", costFunctionTime(path, timeMatrix))"
   ],
   "metadata": {
    "collapsed": false,
    "pycharm": {
     "name": "#%%\n",
     "is_executing": false
    }
   }
  },
  {
   "cell_type": "code",
   "execution_count": 22,
   "metadata": {
    "pycharm": {}
   },
   "outputs": [],
   "source": [
    "# Optimization"
   ]
  }
 ],
 "metadata": {
  "kernelspec": {
   "display_name": "Python 3",
   "language": "python",
   "name": "python3"
  },
  "language_info": {
   "codemirror_mode": {
    "name": "ipython",
    "version": 3
   },
   "file_extension": ".py",
   "mimetype": "text/x-python",
   "name": "python",
   "nbconvert_exporter": "python",
   "pygments_lexer": "ipython3",
   "version": "3.7.3"
  },
  "pycharm": {
   "stem_cell": {
    "cell_type": "raw",
    "source": [],
    "metadata": {
     "collapsed": false
    }
   }
  }
 },
 "nbformat": 4,
 "nbformat_minor": 2
}